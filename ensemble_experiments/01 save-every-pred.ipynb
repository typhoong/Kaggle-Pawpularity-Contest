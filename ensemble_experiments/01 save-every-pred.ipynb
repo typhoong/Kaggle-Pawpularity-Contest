{
 "cells": [
  {
   "cell_type": "markdown",
   "id": "b4ccfc2e",
   "metadata": {
    "id": "HB6tcaFW_H3T",
    "papermill": {
     "duration": 0.022571,
     "end_time": "2021-11-28T13:25:02.216142",
     "exception": false,
     "start_time": "2021-11-28T13:25:02.193571",
     "status": "completed"
    },
    "tags": []
   },
   "source": [
    "# Import libraries"
   ]
  },
  {
   "cell_type": "code",
   "execution_count": 9,
   "id": "7dc9d2d7",
   "metadata": {
    "id": "qwvvNvo_2LH5",
    "papermill": {
     "duration": 9.927229,
     "end_time": "2021-11-28T13:25:12.217576",
     "exception": false,
     "start_time": "2021-11-28T13:25:02.290347",
     "status": "completed"
    },
    "tags": []
   },
   "outputs": [],
   "source": [
    "import os\n",
    "import warnings\n",
    "from pprint import pprint\n",
    "from glob import glob\n",
    "from tqdm import tqdm\n",
    "\n",
    "import torch\n",
    "import torch.optim as optim\n",
    "import torch.nn as nn\n",
    "import torch.nn.functional as F\n",
    "import numpy as np\n",
    "import pandas as pd\n",
    "import matplotlib.pyplot as plt\n",
    "import torchvision.transforms as T\n",
    "from box import Box\n",
    "from timm import create_model\n",
    "from sklearn.model_selection import StratifiedKFold, train_test_split\n",
    "from torchvision.io import read_image\n",
    "from torch.utils.data import DataLoader, Dataset, TensorDataset\n",
    "import optuna, datetime\n",
    "\n",
    "import pytorch_lightning as pl\n",
    "from pytorch_lightning.utilities.seed import seed_everything\n",
    "from pytorch_lightning import callbacks\n",
    "from pytorch_lightning.callbacks.progress import ProgressBarBase\n",
    "from pytorch_lightning.callbacks.early_stopping import EarlyStopping\n",
    "from pytorch_lightning.loggers import TensorBoardLogger\n",
    "from pytorch_lightning import LightningDataModule, LightningModule\n",
    "# from pytorch_lightning.loggers import WandbLogger\n",
    "import albumentations as A\n",
    "from albumentations.pytorch import ToTensorV2\n",
    "import wandb\n",
    "import cv2\n",
    "from sklearn.metrics import mean_squared_error\n",
    "from sklearn.svm import SVR\n",
    "import shutil\n",
    "import os\n",
    "import pickle\n",
    "from torch.utils.data.sampler import WeightedRandomSampler\n",
    "from torch.utils.data import TensorDataset\n",
    "import time\n",
    "import gc\n",
    "from tqdm import tqdm\n",
    "import random\n",
    "\n",
    "warnings.filterwarnings(\"ignore\")"
   ]
  },
  {
   "cell_type": "markdown",
   "id": "3387422c-481e-49ef-a352-dca95deb9584",
   "metadata": {},
   "source": [
    "# Meta info"
   ]
  },
  {
   "cell_type": "code",
   "execution_count": 2,
   "id": "e4813213",
   "metadata": {
    "id": "spieGAU32LH6",
    "papermill": {
     "duration": 0.02556,
     "end_time": "2021-11-28T13:25:12.306938",
     "exception": false,
     "start_time": "2021-11-28T13:25:12.281378",
     "status": "completed"
    },
    "tags": []
   },
   "outputs": [],
   "source": [
    "drive_root = '..'\n",
    "TRAIN_DIR = f\"{drive_root}/input/petfinder-pawpularity-score/train\"\n",
    "TEST_DIR = f\"{drive_root}/input/petfinder-pawpularity-score/test\"\n",
    "DENSE_FEATURES = [\n",
    "    'Subject Focus',\n",
    "    'Eyes',\n",
    "    'Face',\n",
    "    'Near',\n",
    "    'Action',\n",
    "    'Accessory',\n",
    "    'Group',\n",
    "    'Collage',\n",
    "    'Human',\n",
    "    'Occlusion',\n",
    "    'Info',\n",
    "    'Blur',\n",
    "]\n",
    "df_train = pd.read_csv(f\"{drive_root}/input/petfinder-pawpularity-score/train.csv\")\n",
    "df_test = pd.read_csv(f\"{drive_root}/input/petfinder-pawpularity-score/test.csv\")\n",
    "df_train['filepath'] = df_train.Id.apply(lambda x :f\"{TRAIN_DIR}/{x}.jpg\" )\n",
    "df_test['filepath'] = df_test.Id.apply(lambda x :f\"{TEST_DIR}/{x}.jpg\" )"
   ]
  },
  {
   "cell_type": "markdown",
   "id": "6320d447-7937-4f9f-9a63-f486652d8690",
   "metadata": {},
   "source": [
    "# Losses"
   ]
  },
  {
   "cell_type": "code",
   "execution_count": 3,
   "id": "11894965",
   "metadata": {
    "id": "5TZT70L4pi4u",
    "papermill": {
     "duration": 0.027435,
     "end_time": "2021-11-28T13:25:12.623895",
     "exception": false,
     "start_time": "2021-11-28T13:25:12.596460",
     "status": "completed"
    },
    "tags": []
   },
   "outputs": [],
   "source": [
    "class RMSELoss(nn.Module):\n",
    "    def __init__(self, eps=1e-6):\n",
    "        super().__init__()\n",
    "        self.mse = nn.MSELoss()\n",
    "        self.eps = eps\n",
    "        \n",
    "    def forward(self,yhat,y):\n",
    "        loss = torch.sqrt(self.mse(yhat,y) + self.eps)\n",
    "        return loss\n"
   ]
  },
  {
   "cell_type": "markdown",
   "id": "931293fb-0945-4236-92f0-759a86d39768",
   "metadata": {},
   "source": [
    "# Dataset"
   ]
  },
  {
   "cell_type": "code",
   "execution_count": 4,
   "id": "b83078de-d634-4523-b37c-25279aed125a",
   "metadata": {},
   "outputs": [],
   "source": [
    "class CustomDataset(Dataset):\n",
    "    def __init__(self, x, y=None):#, image_size=224):\n",
    "        self._X = x\n",
    "        self._y = y\n",
    "\n",
    "    def __len__(self):\n",
    "        return len(self._X)\n",
    "\n",
    "    def __getitem__(self, idx):\n",
    "        feature = self._X[idx]\n",
    "        if self._y is not None:\n",
    "            label = self._y[idx]\n",
    "            return feature, label\n",
    "        return feature"
   ]
  },
  {
   "cell_type": "markdown",
   "id": "735607ae-06c5-46ac-aab6-ec6123c6bf16",
   "metadata": {},
   "source": [
    "# EarlyStopper"
   ]
  },
  {
   "cell_type": "code",
   "execution_count": 5,
   "id": "5939613b-ab00-4961-9ab5-343c39592d9e",
   "metadata": {},
   "outputs": [],
   "source": [
    "class EarlyStopper():\n",
    "    def __init__(self, patience: int, mode:str)-> None:\n",
    "        self.patience = patience\n",
    "        self.mode = mode\n",
    "\n",
    "        # Initiate\n",
    "        self.patience_counter = 0\n",
    "        self.stop = False\n",
    "        self.best_loss = np.inf\n",
    "        \n",
    "    def check_early_stopping(self, loss: float)-> None:\n",
    "        loss = -loss if self.mode == 'max' else loss  # get max value if mode set to max\n",
    "\n",
    "        if loss >= self.best_loss:\n",
    "            # got better score\n",
    "            self.patience_counter += 1\n",
    "            \n",
    "            if self.patience_counter == self.patience:\n",
    "                self.stop = True  # end\n",
    "\n",
    "        elif loss < self.best_loss:\n",
    "            # got worse score\n",
    "            self.patience_counter = 0\n",
    "            self.best_loss = loss\n",
    "            \n"
   ]
  },
  {
   "cell_type": "markdown",
   "id": "d9087661-3d5c-4dbb-b35f-449342fbf6e7",
   "metadata": {},
   "source": [
    "# Setting arguments (swin_2021)"
   ]
  },
  {
   "cell_type": "code",
   "execution_count": 31,
   "id": "9ae2876e",
   "metadata": {
    "executionInfo": {
     "elapsed": 17,
     "status": "ok",
     "timestamp": 1637508005015,
     "user": {
      "displayName": "Daewoo Myoung",
      "photoUrl": "https://lh3.googleusercontent.com/a-/AOh14GhyUBzKneZcIle1t7HXIAaL548lK9ndvDFCUhROwQ=s64",
      "userId": "15525163033989858669"
     },
     "user_tz": -540
    },
    "id": "b-nCf5Ze-6im",
    "outputId": "554d312b-fec4-402a-bb40-a442a7824d56",
    "papermill": {
     "duration": 0.029591,
     "end_time": "2021-11-28T13:25:12.872125",
     "exception": false,
     "start_time": "2021-11-28T13:25:12.842534",
     "status": "completed"
    },
    "tags": []
   },
   "outputs": [
    {
     "name": "stderr",
     "output_type": "stream",
     "text": [
      "Global seed set to 2026\n"
     ]
    }
   ],
   "source": [
    "os.environ[\"CUDA_VISIBLE_DEVICES\"]=\"1\"\n",
    "model_code = 'cait_2026'\n",
    "seed = 2026\n",
    "torch.manual_seed(seed)\n",
    "torch.cuda.manual_seed(seed)\n",
    "torch.backends.cudnn.deterministic = True\n",
    "torch.backends.cudnn.benchmark = False\n",
    "np.random.seed(seed)\n",
    "random.seed(seed)\n",
    "seed_everything(seed)\n",
    "torch.autograd.set_detect_anomaly(True)\n",
    "\n",
    "skf = StratifiedKFold(n_splits=10, shuffle=True, random_state=seed)\n"
   ]
  },
  {
   "cell_type": "markdown",
   "id": "d4c2d23d-0970-48a8-8372-e0b539fa426b",
   "metadata": {},
   "source": [
    "# Parameters (sr)"
   ]
  },
  {
   "cell_type": "code",
   "execution_count": 32,
   "id": "de46029d-158e-4df8-a926-b8a77c383fc5",
   "metadata": {},
   "outputs": [
    {
     "name": "stdout",
     "output_type": "stream",
     "text": [
      "Best trial:224\n",
      "  Params: \n",
      "    learning_rate: 0.0036668781955411876\n",
      "    hidden_Dim: 64\n",
      "    patience: 50\n",
      "    activation: nn.CELU\n",
      "    first_drop: 0.7436634507558222\n",
      "    second_drop: 0.020778489863173384\n",
      "    third_drop: 0.775613910041795\n",
      "    beta1: 0.33129254099892996\n",
      "    beta2: 0.0815198907791905\n",
      "    weight_decay: 0.7996296214002552\n",
      "    amsgrad: False\n",
      "    T_0: 60\n",
      "    T_mult: 74\n",
      "    eta_min: 4.86860523185378e-06\n",
      "    external_feature: False\n"
     ]
    }
   ],
   "source": [
    "study_save_dir = f'{drive_root}/output/weights/final_weights/{model_code}_2nd_head/simple_head/'\n",
    "\n",
    "with open(f\"{study_save_dir}01-simple-head.pkl\", 'rb') as file:\n",
    "    study = pickle.load(file)\n",
    "    \n",
    "trial = study.best_trial\n",
    "print(f\"Best trial:{trial.number}\")\n",
    "\n",
    "print(\"  Params: \")\n",
    "for key, value in trial.params.items():\n",
    "    print(\"    {}: {}\".format(key, value))"
   ]
  },
  {
   "cell_type": "code",
   "execution_count": 33,
   "id": "e7dca69c-630f-4e8c-9c32-be0b869713c8",
   "metadata": {},
   "outputs": [
    {
     "name": "stdout",
     "output_type": "stream",
     "text": [
      "fold 0 score : 17.615340480624496\n",
      "fold 1 score : 17.634135847624798\n",
      "fold 2 score : 17.12036336854731\n",
      "fold 3 score : 16.90874505331735\n",
      "fold 4 score : 17.379376203055436\n",
      "fold 5 score : 17.52551618878885\n",
      "fold 6 score : 17.206142892551203\n",
      "fold 7 score : 17.37907318127309\n",
      "fold 8 score : 17.292821315820973\n",
      "fold 9 score : 17.801377573454154\n"
     ]
    }
   ],
   "source": [
    "for fold, (train_idx, val_idx) in enumerate(skf.split(df_train[\"Id\"], df_train[\"Pawpularity\"])):\n",
    "    model_save_dir = f'{drive_root}/output/weights/final_weights/{model_code}/'\n",
    "    head_dir = f'{drive_root}/output/weights/final_weights/{model_code}_2nd_head/simple_head/SimpleHead_fold{fold}.ckpt'\n",
    "    result_save_dir = f'./prediction/{model_code}/sr/'\n",
    "    \n",
    "    train_df = df_train.loc[train_idx].reset_index(drop=True)\n",
    "    val_df = df_train.loc[val_idx].reset_index(drop=True)\n",
    "    \n",
    "    # Load embed features\n",
    "    val_embed_features = np.load(f'{model_save_dir}val_embed_org_fold{fold}.npy')\n",
    "    val_embed_flip_features = np.load(f'{model_save_dir}val_embed_flip_fold{fold}.npy')\n",
    "    val_embed_merge_features = np.load(f'{model_save_dir}val_embed_merge_org_fold{fold}.npy')\n",
    "    val_embed_merge_flip_features = np.load(f'{model_save_dir}val_embed_merge_flip_fold{fold}.npy')\n",
    "    \n",
    "    if trial.params['external_feature']: \n",
    "        org_feature = torch.FloatTensor(val_embed_merge_features).to('cuda')\n",
    "        flip_feature = torch.FloatTensor(val_embed_merge_flip_features).to('cuda')\n",
    "    else:\n",
    "        org_feature = torch.FloatTensor(val_embed_features).to('cuda')\n",
    "        flip_feature = torch.FloatTensor(val_embed_flip_features).to('cuda')\n",
    "        \n",
    "    q = pickle.load(open(head_dir, \"rb\"))\n",
    "    q.eval()\n",
    "    with torch.no_grad():\n",
    "        org_pred = q(org_feature)\n",
    "        flip_pred = q(flip_feature)\n",
    "        org_pred = torch.sigmoid(org_pred).squeeze(dim=-1).cpu().numpy() * 100    \n",
    "        flip_pred = torch.sigmoid(flip_pred).squeeze(dim=-1).cpu().numpy() * 100\n",
    "        pred = (org_pred + flip_pred)/2.\n",
    "        \n",
    "    score = mean_squared_error(val_df.Pawpularity, pred)**0.5\n",
    "    print(f'fold {fold} score : {score}')\n",
    "    np.save(f'{result_save_dir}val_predicts{fold}.npy', pred)\n",
    "    \n",
    "    \n"
   ]
  },
  {
   "cell_type": "markdown",
   "id": "3b68d469-e99f-40b7-92e2-a358234c0260",
   "metadata": {},
   "source": [
    "# Parameters (qr)"
   ]
  },
  {
   "cell_type": "code",
   "execution_count": 34,
   "id": "e4fd7183-6079-4cac-9ad5-eff16dc0534e",
   "metadata": {},
   "outputs": [
    {
     "name": "stdout",
     "output_type": "stream",
     "text": [
      "Best trial:386\n",
      "  Params: \n",
      "    learning_rate: 0.0009310636198014082\n",
      "    hidden_Dim: 256\n",
      "    patience: 50\n",
      "    activation: nn.LogSigmoid\n",
      "    first_drop: 0.2202952838292654\n",
      "    second_drop: 0.6206132613464477\n",
      "    third_drop: 0.8714714822686737\n",
      "    qunatile_num: 583\n",
      "    beta1: 0.7317231733336342\n",
      "    beta2: 0.2514265901050952\n",
      "    weight_decay: 0.029055884299404165\n",
      "    amsgrad: True\n",
      "    T_0: 32\n",
      "    T_mult: 94\n",
      "    eta_min: 7.2505756003026e-08\n",
      "    external_feature: True\n"
     ]
    }
   ],
   "source": [
    "study_save_dir = f'{drive_root}/output/weights/final_weights/{model_code}_2nd_head/qr_head/'\n",
    "\n",
    "with open(f\"{study_save_dir}02-quantile-head.pkl\", 'rb') as file:\n",
    "    study = pickle.load(file)\n",
    "    \n",
    "trial = study.best_trial\n",
    "print(f\"Best trial:{trial.number}\")\n",
    "\n",
    "print(\"  Params: \")\n",
    "for key, value in trial.params.items():\n",
    "    print(\"    {}: {}\".format(key, value))"
   ]
  },
  {
   "cell_type": "code",
   "execution_count": 35,
   "id": "a93a1322-ff57-4cd3-a92d-4abbaf35e31e",
   "metadata": {},
   "outputs": [
    {
     "name": "stdout",
     "output_type": "stream",
     "text": [
      "fold 0 score : 17.648856408305196\n",
      "fold 1 score : 17.74933011730671\n",
      "fold 2 score : 17.198119980035237\n",
      "fold 3 score : 16.89868000838977\n",
      "fold 4 score : 17.36855202433688\n",
      "fold 5 score : 17.416613916918852\n",
      "fold 6 score : 17.258448357758734\n",
      "fold 7 score : 17.631473304601197\n",
      "fold 8 score : 17.325556574129514\n",
      "fold 9 score : 17.8702082220694\n"
     ]
    }
   ],
   "source": [
    "for fold, (train_idx, val_idx) in enumerate(skf.split(df_train[\"Id\"], df_train[\"Pawpularity\"])):\n",
    "    model_save_dir = f'{drive_root}/output/weights/final_weights/{model_code}/'\n",
    "    head_dir = f'{drive_root}/output/weights/final_weights/{model_code}_2nd_head/qr_head/QRHead_fold{fold}.ckpt'\n",
    "    result_save_dir = f'./prediction/{model_code}/qr/'\n",
    "    \n",
    "    train_df = df_train.loc[train_idx].reset_index(drop=True)\n",
    "    val_df = df_train.loc[val_idx].reset_index(drop=True)\n",
    "    \n",
    "    # Load embed features\n",
    "    val_embed_features = np.load(f'{model_save_dir}val_embed_org_fold{fold}.npy')\n",
    "    val_embed_flip_features = np.load(f'{model_save_dir}val_embed_flip_fold{fold}.npy')\n",
    "    val_embed_merge_features = np.load(f'{model_save_dir}val_embed_merge_org_fold{fold}.npy')\n",
    "    val_embed_merge_flip_features = np.load(f'{model_save_dir}val_embed_merge_flip_fold{fold}.npy')\n",
    "    \n",
    "    if trial.params['external_feature']: \n",
    "        org_feature = torch.FloatTensor(val_embed_merge_features).to('cuda')\n",
    "        flip_feature = torch.FloatTensor(val_embed_merge_flip_features).to('cuda')\n",
    "    else:\n",
    "        org_feature = torch.FloatTensor(val_embed_features).to('cuda')\n",
    "        flip_feature = torch.FloatTensor(val_embed_flip_features).to('cuda')\n",
    "        \n",
    "    q = pickle.load(open(head_dir, \"rb\"))\n",
    "    q.eval()\n",
    "    with torch.no_grad():\n",
    "        org_pred = q(org_feature)\n",
    "        flip_pred = q(flip_feature)\n",
    "        org_pred = org_pred.median(dim=-1)[0].cpu().numpy() * 100  \n",
    "        flip_pred = flip_pred.median(dim=-1)[0].cpu().numpy() * 100  \n",
    "        pred = (org_pred + flip_pred)/2.\n",
    "        \n",
    "    score = mean_squared_error(val_df.Pawpularity, pred)**0.5\n",
    "    print(f'fold {fold} score : {score}')\n",
    "    np.save(f'{result_save_dir}val_predicts{fold}.npy', pred)\n",
    "    \n",
    "    \n"
   ]
  },
  {
   "cell_type": "markdown",
   "id": "41a7ab72-0693-48f4-b910-69ab218f40f4",
   "metadata": {},
   "source": [
    "# Parameters (by)"
   ]
  },
  {
   "cell_type": "code",
   "execution_count": 36,
   "id": "9746eaa2-1b1b-4c59-80a3-24edf6936474",
   "metadata": {},
   "outputs": [
    {
     "name": "stdout",
     "output_type": "stream",
     "text": [
      "Best trial:399\n",
      "  Params: \n",
      "    learning_rate: 0.001271654544291899\n",
      "    h1: 32\n",
      "    h2: 2048\n",
      "    patience: 50\n",
      "    activation: nn.Hardswish\n",
      "    first_drop: 0.698555927140175\n",
      "    second_drop: 0.20381523191503506\n",
      "    third_drop: 0.2006610172177032\n",
      "    beta1: 0.31608764085674934\n",
      "    beta2: 0.6580266789634163\n",
      "    weight_decay: 0.2929888186928512\n",
      "    amsgrad: False\n",
      "    T_0: 31\n",
      "    T_mult: 19\n",
      "    eta_min: 9.723090090029141e-09\n",
      "    external_feature: True\n"
     ]
    }
   ],
   "source": [
    "study_save_dir = f'{drive_root}/output/weights/final_weights/{model_code}_2nd_head/by_head/'\n",
    "\n",
    "with open(f\"{study_save_dir}03-bayes-head.pkl\", 'rb') as file:\n",
    "    study = pickle.load(file)\n",
    "    \n",
    "trial = study.best_trial\n",
    "print(f\"Best trial:{trial.number}\")\n",
    "\n",
    "print(\"  Params: \")\n",
    "for key, value in trial.params.items():\n",
    "    print(\"    {}: {}\".format(key, value))"
   ]
  },
  {
   "cell_type": "code",
   "execution_count": 37,
   "id": "282bbe0d-62db-4236-878d-41d1d4f027f9",
   "metadata": {},
   "outputs": [
    {
     "name": "stdout",
     "output_type": "stream",
     "text": [
      "fold 0 score : 17.581717963551093\n",
      "fold 1 score : 17.611075253504143\n",
      "fold 2 score : 17.052531405533767\n",
      "fold 3 score : 16.85781319742837\n",
      "fold 4 score : 17.425451147113776\n",
      "fold 5 score : 17.363612422910254\n",
      "fold 6 score : 17.222130543540125\n",
      "fold 7 score : 17.336935670219017\n",
      "fold 8 score : 17.29069533575795\n",
      "fold 9 score : 17.708355860658706\n"
     ]
    }
   ],
   "source": [
    "for fold, (train_idx, val_idx) in enumerate(skf.split(df_train[\"Id\"], df_train[\"Pawpularity\"])):\n",
    "    model_save_dir = f'{drive_root}/output/weights/final_weights/{model_code}/'\n",
    "    head_dir = f'{drive_root}/output/weights/final_weights/{model_code}_2nd_head/by_head/BayesHead_fold{fold}.ckpt'\n",
    "    result_save_dir = f'./prediction/{model_code}/by/'\n",
    "    \n",
    "    train_df = df_train.loc[train_idx].reset_index(drop=True)\n",
    "    val_df = df_train.loc[val_idx].reset_index(drop=True)\n",
    "    \n",
    "    # Load embed features\n",
    "    val_embed_features = np.load(f'{model_save_dir}val_embed_org_fold{fold}.npy')\n",
    "    val_embed_flip_features = np.load(f'{model_save_dir}val_embed_flip_fold{fold}.npy')\n",
    "    val_embed_merge_features = np.load(f'{model_save_dir}val_embed_merge_org_fold{fold}.npy')\n",
    "    val_embed_merge_flip_features = np.load(f'{model_save_dir}val_embed_merge_flip_fold{fold}.npy')\n",
    "    \n",
    "    if trial.params['external_feature']: \n",
    "        org_feature = torch.FloatTensor(val_embed_merge_features).to('cuda')\n",
    "        flip_feature = torch.FloatTensor(val_embed_merge_flip_features).to('cuda')\n",
    "    else:\n",
    "        org_feature = torch.FloatTensor(val_embed_features).to('cuda')\n",
    "        flip_feature = torch.FloatTensor(val_embed_flip_features).to('cuda')\n",
    "        \n",
    "    q = pickle.load(open(head_dir, \"rb\"))\n",
    "    q.eval()\n",
    "    with torch.no_grad():\n",
    "        org_pred = q(org_feature)\n",
    "        flip_pred = q(flip_feature)\n",
    "        org_pred = torch.sigmoid(org_pred[:, 0]).cpu().numpy() * 100  \n",
    "        flip_pred = torch.sigmoid(flip_pred[:, 0]).cpu().numpy() * 100  \n",
    "        pred = (org_pred + flip_pred)/2.\n",
    "        \n",
    "    score = mean_squared_error(val_df.Pawpularity, pred)**0.5\n",
    "    print(f'fold {fold} score : {score}')\n",
    "    np.save(f'{result_save_dir}val_predicts{fold}.npy', pred)\n",
    "    \n",
    "    \n"
   ]
  },
  {
   "cell_type": "markdown",
   "id": "1ac1f8f8-630a-4257-9b0e-526aa2d46a57",
   "metadata": {},
   "source": [
    "# Make dataframe"
   ]
  },
  {
   "cell_type": "code",
   "execution_count": 48,
   "id": "0a94e8cd-1a2d-4d85-9335-e350ab1e67ca",
   "metadata": {},
   "outputs": [],
   "source": [
    "model_code = 'cait_2026'\n",
    "seed = 2026\n",
    "np.random.seed(seed)\n",
    "random.seed(seed)\n",
    "skf = StratifiedKFold(n_splits=10, shuffle=True, random_state=seed)\n",
    "id_lst = []\n",
    "\n",
    "exec(f'{model_code}_org_lst=[]')\n",
    "exec(f'{model_code}_sr_lst=[]')\n",
    "exec(f'{model_code}_qr_lst=[]')\n",
    "exec(f'{model_code}_by_lst=[]')\n",
    "\n",
    "for fold, (train_idx, val_idx) in enumerate(skf.split(df_train[\"Id\"], df_train[\"Pawpularity\"])):\n",
    "    org_predict = np.load(f'./prediction/{model_code}/org/val_predicts_fold{fold}.npy')\n",
    "    sr_predict = np.load(f'./prediction/{model_code}/sr/val_predicts{fold}.npy')\n",
    "    qr_predict = np.load(f'./prediction/{model_code}/qr/val_predicts{fold}.npy')\n",
    "    by_predict = np.load(f'./prediction/{model_code}/by/val_predicts{fold}.npy')\n",
    "    val_df = df_train.loc[val_idx].reset_index(drop=True)\n",
    "    id_lst.extend(val_df['Id'].tolist())\n",
    "    exec(f'{model_code}_org_lst.extend(org_predict.tolist())')\n",
    "    exec(f'{model_code}_sr_lst.extend(sr_predict.tolist())')\n",
    "    exec(f'{model_code}_qr_lst.extend(qr_predict.tolist())')\n",
    "    exec(f'{model_code}_by_lst.extend(by_predict.tolist())')"
   ]
  },
  {
   "cell_type": "code",
   "execution_count": 50,
   "id": "34fe7916-1bff-4fe4-8277-885f85886c9a",
   "metadata": {},
   "outputs": [],
   "source": [
    "cait_2026_df = pd.DataFrame({'Id':id_lst, 'cait_2026_org':cait_2026_org_lst, 'cait_2026_sr':cait_2026_sr_lst, 'cait_2026_qr':cait_2026_qr_lst, 'cait_2026_by':cait_2026_by_lst})"
   ]
  },
  {
   "cell_type": "code",
   "execution_count": 52,
   "id": "0dc27b49-d501-45d2-90d2-f3ca93b071a7",
   "metadata": {},
   "outputs": [],
   "source": [
    "model_code = 'swin_2021'\n",
    "seed = 2021\n",
    "np.random.seed(seed)\n",
    "random.seed(seed)\n",
    "skf = StratifiedKFold(n_splits=10, shuffle=True, random_state=seed)\n",
    "id_lst = []\n",
    "\n",
    "exec(f'{model_code}_org_lst=[]')\n",
    "exec(f'{model_code}_sr_lst=[]')\n",
    "exec(f'{model_code}_qr_lst=[]')\n",
    "exec(f'{model_code}_by_lst=[]')\n",
    "\n",
    "for fold, (train_idx, val_idx) in enumerate(skf.split(df_train[\"Id\"], df_train[\"Pawpularity\"])):\n",
    "    org_predict = np.load(f'./prediction/{model_code}/org/val_predicts_fold{fold}.npy')\n",
    "    sr_predict = np.load(f'./prediction/{model_code}/sr/val_predicts{fold}.npy')\n",
    "    qr_predict = np.load(f'./prediction/{model_code}/qr/val_predicts{fold}.npy')\n",
    "    by_predict = np.load(f'./prediction/{model_code}/by/val_predicts{fold}.npy')\n",
    "    val_df = df_train.loc[val_idx].reset_index(drop=True)\n",
    "    id_lst.extend(val_df['Id'].tolist())\n",
    "    exec(f'{model_code}_org_lst.extend(org_predict.tolist())')\n",
    "    exec(f'{model_code}_sr_lst.extend(sr_predict.tolist())')\n",
    "    exec(f'{model_code}_qr_lst.extend(qr_predict.tolist())')\n",
    "    exec(f'{model_code}_by_lst.extend(by_predict.tolist())')"
   ]
  },
  {
   "cell_type": "code",
   "execution_count": 53,
   "id": "8a160811-57ae-4045-a3b1-17ea29758be8",
   "metadata": {},
   "outputs": [],
   "source": [
    "swin_2021_df = pd.DataFrame({'Id':id_lst, 'swin_2021_org':swin_2021_org_lst, 'swin_2021_sr':swin_2021_sr_lst, 'swin_2021_qr':swin_2021_qr_lst, 'swin_2021_by':swin_2021_by_lst})"
   ]
  },
  {
   "cell_type": "code",
   "execution_count": 54,
   "id": "fc1c6866-0209-4e9f-9a9e-e425e24f430b",
   "metadata": {},
   "outputs": [],
   "source": [
    "model_code = 'swin_2025'\n",
    "seed = 2025\n",
    "np.random.seed(seed)\n",
    "random.seed(seed)\n",
    "skf = StratifiedKFold(n_splits=10, shuffle=True, random_state=seed)\n",
    "id_lst = []\n",
    "\n",
    "exec(f'{model_code}_org_lst=[]')\n",
    "exec(f'{model_code}_sr_lst=[]')\n",
    "exec(f'{model_code}_qr_lst=[]')\n",
    "exec(f'{model_code}_by_lst=[]')\n",
    "\n",
    "for fold, (train_idx, val_idx) in enumerate(skf.split(df_train[\"Id\"], df_train[\"Pawpularity\"])):\n",
    "    org_predict = np.load(f'./prediction/{model_code}/org/val_predicts_fold{fold}.npy')\n",
    "    sr_predict = np.load(f'./prediction/{model_code}/sr/val_predicts{fold}.npy')\n",
    "    qr_predict = np.load(f'./prediction/{model_code}/qr/val_predicts{fold}.npy')\n",
    "    by_predict = np.load(f'./prediction/{model_code}/by/val_predicts{fold}.npy')\n",
    "    val_df = df_train.loc[val_idx].reset_index(drop=True)\n",
    "    id_lst.extend(val_df['Id'].tolist())\n",
    "    exec(f'{model_code}_org_lst.extend(org_predict.tolist())')\n",
    "    exec(f'{model_code}_sr_lst.extend(sr_predict.tolist())')\n",
    "    exec(f'{model_code}_qr_lst.extend(qr_predict.tolist())')\n",
    "    exec(f'{model_code}_by_lst.extend(by_predict.tolist())')"
   ]
  },
  {
   "cell_type": "code",
   "execution_count": 55,
   "id": "c0500017-7c8b-4f7a-98db-97c65cf218a6",
   "metadata": {},
   "outputs": [],
   "source": [
    "swin_2025_df = pd.DataFrame({'Id':id_lst, 'swin_2025_org':swin_2025_org_lst, 'swin_2025_sr':swin_2025_sr_lst, 'swin_2025_qr':swin_2025_qr_lst, 'swin_2025_by':swin_2025_by_lst})"
   ]
  },
  {
   "cell_type": "code",
   "execution_count": 68,
   "id": "a604c1b3-5d8f-47ef-83ed-e25fa711ea91",
   "metadata": {},
   "outputs": [],
   "source": [
    "pred_df = pd.merge(left = swin_2021_df , right = swin_2025_df, how = \"inner\", on = \"Id\")\n",
    "pred_df = pd.merge(left = pred_df , right = cait_2026_df, how = \"inner\", on = \"Id\")"
   ]
  },
  {
   "cell_type": "code",
   "execution_count": 69,
   "id": "7e693777-805a-430a-9b56-43ea2d61a757",
   "metadata": {},
   "outputs": [],
   "source": [
    "answer_df = pd.DataFrame({'Id' : df_train['Id'], 'answer' : df_train['Pawpularity']})"
   ]
  },
  {
   "cell_type": "code",
   "execution_count": 70,
   "id": "d9373962-b63a-45c3-9111-f8204497939e",
   "metadata": {},
   "outputs": [],
   "source": [
    "final_df = pd.merge(left = answer_df , right = pred_df, how = \"inner\", on = \"Id\")"
   ]
  },
  {
   "cell_type": "code",
   "execution_count": 71,
   "id": "5d5c70f7-b173-4cac-beff-8edffc35435c",
   "metadata": {},
   "outputs": [],
   "source": [
    "final_df.to_csv('final_df.csv', index=False)"
   ]
  },
  {
   "cell_type": "markdown",
   "id": "27719aae-4dec-4188-a634-8fe4b594cbb2",
   "metadata": {},
   "source": [
    "# Ensemble experiment"
   ]
  },
  {
   "cell_type": "code",
   "execution_count": 35,
   "id": "acdfbbd9-ef20-4487-9b6c-ec03074d1cb9",
   "metadata": {},
   "outputs": [
    {
     "name": "stdout",
     "output_type": "stream",
     "text": [
      "('val_predicts',)\n",
      "cv score : 17.498020690937622\n",
      "------------\n",
      "('val_svr_predicts',)\n",
      "cv score : 17.579673884685686\n",
      "------------\n",
      "('val_QR_predicts',)\n",
      "cv score : 17.422758685111415\n",
      "------------\n",
      "('val_Bayes_predicts',)\n",
      "cv score : 17.394987698249714\n",
      "------------\n",
      "('val_Simple_predicts',)\n",
      "cv score : 17.33018967573739\n",
      "------------\n",
      "('val_predicts', 'val_svr_predicts')\n",
      "cv score : 17.453665233861358\n",
      "------------\n",
      "('val_predicts', 'val_QR_predicts')\n",
      "cv score : 17.421277767367716\n",
      "------------\n",
      "('val_predicts', 'val_Bayes_predicts')\n",
      "cv score : 17.387532910075855\n",
      "------------\n",
      "('val_predicts', 'val_Simple_predicts')\n",
      "cv score : 17.363869075155137\n",
      "------------\n",
      "('val_svr_predicts', 'val_QR_predicts')\n",
      "cv score : 17.444048232923297\n",
      "------------\n",
      "('val_svr_predicts', 'val_Bayes_predicts')\n",
      "cv score : 17.37116993518172\n",
      "------------\n",
      "('val_svr_predicts', 'val_Simple_predicts')\n",
      "cv score : 17.364519041502433\n",
      "------------\n",
      "('val_QR_predicts', 'val_Bayes_predicts')\n",
      "cv score : 17.364583278701396\n",
      "------------\n",
      "('val_QR_predicts', 'val_Simple_predicts')\n",
      "cv score : 17.343268924008555\n",
      "------------\n",
      "('val_Bayes_predicts', 'val_Simple_predicts')\n",
      "cv score : 17.33177076461548\n",
      "------------\n",
      "('val_predicts', 'val_svr_predicts', 'val_QR_predicts')\n",
      "cv score : 17.419406534501384\n",
      "------------\n",
      "('val_predicts', 'val_svr_predicts', 'val_Bayes_predicts')\n",
      "cv score : 17.3750689260127\n",
      "------------\n",
      "('val_predicts', 'val_svr_predicts', 'val_Simple_predicts')\n",
      "cv score : 17.368805915974765\n",
      "------------\n",
      "('val_predicts', 'val_QR_predicts', 'val_Bayes_predicts')\n",
      "cv score : 17.375267496889855\n",
      "------------\n",
      "('val_predicts', 'val_QR_predicts', 'val_Simple_predicts')\n",
      "cv score : 17.36248197442169\n",
      "------------\n",
      "('val_predicts', 'val_Bayes_predicts', 'val_Simple_predicts')\n",
      "cv score : 17.345430922143425\n",
      "------------\n",
      "('val_svr_predicts', 'val_QR_predicts', 'val_Bayes_predicts')\n",
      "cv score : 17.36900078718839\n",
      "------------\n",
      "('val_svr_predicts', 'val_QR_predicts', 'val_Simple_predicts')\n",
      "cv score : 17.363769682564815\n",
      "------------\n",
      "('val_svr_predicts', 'val_Bayes_predicts', 'val_Simple_predicts')\n",
      "cv score : 17.32925721706969\n",
      "------------\n",
      "('val_QR_predicts', 'val_Bayes_predicts', 'val_Simple_predicts')\n",
      "cv score : 17.334479126105556\n",
      "------------\n",
      "('val_predicts', 'val_svr_predicts', 'val_QR_predicts', 'val_Bayes_predicts')\n",
      "cv score : 17.373493338160124\n",
      "------------\n",
      "('val_predicts', 'val_svr_predicts', 'val_QR_predicts', 'val_Simple_predicts')\n",
      "cv score : 17.368691049462683\n",
      "------------\n",
      "('val_predicts', 'val_svr_predicts', 'val_Bayes_predicts', 'val_Simple_predicts')\n",
      "cv score : 17.342564696758874\n",
      "------------\n",
      "('val_predicts', 'val_QR_predicts', 'val_Bayes_predicts', 'val_Simple_predicts')\n",
      "cv score : 17.347256189347846\n",
      "------------\n",
      "('val_svr_predicts', 'val_QR_predicts', 'val_Bayes_predicts', 'val_Simple_predicts')\n",
      "cv score : 17.33872886199802\n",
      "------------\n",
      "('val_predicts', 'val_svr_predicts', 'val_QR_predicts', 'val_Bayes_predicts', 'val_Simple_predicts')\n",
      "cv score : 17.34805303009965\n",
      "------------\n",
      "min combination : ('val_svr_predicts', 'val_Bayes_predicts', 'val_Simple_predicts'), score : 17.32925721706969\n"
     ]
    }
   ],
   "source": [
    "from itertools import combinations\n",
    "\n",
    "debug = True\n",
    "pred_list = ('val_predicts', 'val_svr_predicts', 'val_QR_predicts', 'val_Bayes_predicts', 'val_Simple_predicts')\n",
    "\n",
    "cv_min_score = 10e+2\n",
    "\n",
    "for i in range(1, len(pred_list)+1):\n",
    "    \n",
    "    comb = list(combinations(pred_list, i))\n",
    "    \n",
    "    for c in comb:\n",
    "        swin_scores = []\n",
    "        svr_scores = []\n",
    "        qr_scores = []\n",
    "        bayes_scores = []\n",
    "        ens_scores = []\n",
    "\n",
    "        for fold, (train_idx, val_idx) in enumerate(skf.split(df_train[\"Id\"], df_train[\"Pawpularity\"])):\n",
    "            early_stopper = EarlyStopper(patience = config.patience, mode='min')\n",
    "            val_min_score = 1e+100\n",
    "            model_save_dir = f'{drive_root}/output/weights/{config.model.name}_{config.save_discript}/'\n",
    "            quantile_dir = f'{drive_root}/output/weights/{config.model.name}_{config.save_discript}/Bayes_fold{fold}.ckpt'\n",
    "            train_df = df_train.loc[train_idx].reset_index(drop=True)\n",
    "            val_df = df_train.loc[val_idx].reset_index(drop=True)\n",
    "\n",
    "            val_predicts = np.load(f'{model_save_dir}val_predicts{fold}.npy')\n",
    "            val_svr_predicts = np.load(f'{model_save_dir}val_svr_predicts{fold}.npy')\n",
    "            val_QR_predicts = np.load(f'{model_save_dir}val_QR_predicts{fold}.npy')\n",
    "            val_Bayes_predicts = np.load(f'{model_save_dir}val_Bayes_predicts{fold}.npy')\n",
    "            val_Simple_predicts = np.load(f'{model_save_dir}val_Simple_predicts{fold}.npy')\n",
    "\n",
    "            swin_score = mean_squared_error(val_df.Pawpularity,val_predicts)**0.5\n",
    "            swin_scores.append(swin_score)\n",
    "\n",
    "            svr_score = mean_squared_error(val_df.Pawpularity,val_svr_predicts)**0.5\n",
    "            svr_scores.append(svr_score)\n",
    "\n",
    "            qr_score = mean_squared_error(val_df.Pawpularity,val_QR_predicts)**0.5\n",
    "            qr_scores.append(qr_score)\n",
    "\n",
    "            bayes_score = mean_squared_error(val_df.Pawpularity, val_Bayes_predicts)**0.5\n",
    "            bayes_scores.append(bayes_score)\n",
    "\n",
    "            ensemble_predicts = np.zeros(val_predicts.shape[0])\n",
    "            for item in c:\n",
    "                ensemble_predicts += eval(item)\n",
    "            ensemble_predicts = ensemble_predicts/len(c)\n",
    "            ens_score = mean_squared_error(val_df.Pawpularity,ensemble_predicts)**0.5\n",
    "            ens_scores.append(ens_score)\n",
    "            \n",
    "        cv_score = sum(ens_scores)/len(ens_scores)   \n",
    "        if cv_score < cv_min_score:\n",
    "            min_comb = c\n",
    "            cv_min_score = cv_score\n",
    "        if debug:\n",
    "            print(c)\n",
    "            print(f'cv score : {cv_score}')\n",
    "            print('------------')\n",
    "            \n",
    "print(f'min combination : {min_comb}, score : {cv_min_score}')"
   ]
  }
 ],
 "metadata": {
  "kernelspec": {
   "display_name": "Python 3",
   "language": "python",
   "name": "python3"
  },
  "language_info": {
   "codemirror_mode": {
    "name": "ipython",
    "version": 3
   },
   "file_extension": ".py",
   "mimetype": "text/x-python",
   "name": "python",
   "nbconvert_exporter": "python",
   "pygments_lexer": "ipython3",
   "version": "3.8.10"
  },
  "papermill": {
   "default_parameters": {},
   "duration": 4827.079628,
   "end_time": "2021-11-28T14:45:21.922531",
   "environment_variables": {},
   "exception": null,
   "input_path": "__notebook__.ipynb",
   "output_path": "__notebook__.ipynb",
   "parameters": {},
   "start_time": "2021-11-28T13:24:54.842903",
   "version": "2.3.3"
  }
 },
 "nbformat": 4,
 "nbformat_minor": 5
}
