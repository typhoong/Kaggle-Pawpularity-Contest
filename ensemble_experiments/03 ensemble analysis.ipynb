{
 "cells": [
  {
   "cell_type": "code",
   "execution_count": 2,
   "id": "07130b13-20f1-4351-94cb-a1cce49d5ea7",
   "metadata": {},
   "outputs": [],
   "source": [
    "import os\n",
    "import pandas as pd\n",
    "import numpy as np\n",
    "from sklearn.model_selection import StratifiedKFold"
   ]
  },
  {
   "cell_type": "code",
   "execution_count": 3,
   "id": "fe106e8f-e28b-4c9b-91f1-11d3c6cf46f4",
   "metadata": {},
   "outputs": [],
   "source": [
    "drive_root = '..'\n",
    "TRAIN_DIR = f\"{drive_root}/input/petfinder-pawpularity-score/train\"\n",
    "TEST_DIR = f\"{drive_root}/input/petfinder-pawpularity-score/test\"\n",
    "DENSE_FEATURES = [\n",
    "    'Subject Focus',\n",
    "    'Eyes',\n",
    "    'Face',\n",
    "    'Near',\n",
    "    'Action',\n",
    "    'Accessory',\n",
    "    'Group',\n",
    "    'Collage',\n",
    "    'Human',\n",
    "    'Occlusion',\n",
    "    'Info',\n",
    "    'Blur',\n",
    "]\n",
    "df_train = pd.read_csv(f\"{drive_root}/input/petfinder-pawpularity-score/train.csv\")\n",
    "df_test = pd.read_csv(f\"{drive_root}/input/petfinder-pawpularity-score/test.csv\")\n",
    "df_train['filepath'] = df_train.Id.apply(lambda x :f\"{TRAIN_DIR}/{x}.jpg\" )\n",
    "df_test['filepath'] = df_test.Id.apply(lambda x :f\"{TEST_DIR}/{x}.jpg\" )"
   ]
  },
  {
   "cell_type": "code",
   "execution_count": 8,
   "id": "ab2a963b-a12d-4cf5-9ad5-4aa56c177208",
   "metadata": {},
   "outputs": [
    {
     "name": "stderr",
     "output_type": "stream",
     "text": [
      "/opt/conda/lib/python3.8/site-packages/sklearn/model_selection/_split.py:676: UserWarning: The least populated class in y has only 4 members, which is less than n_splits=10.\n",
      "  warnings.warn(\n"
     ]
    }
   ],
   "source": [
    "seed = 2021\n",
    "model_code = f'swin_{seed}'\n",
    "result_path = f'../output/weights/final_weights/embed_features & 2nd_head/{model_code}_2nd_head/'\n",
    "skf = StratifiedKFold(n_splits=10, shuffle=True, random_state=seed)\n",
    "id_lst = []\n",
    "exec(f'{model_code}_org_lst=[]')\n",
    "exec(f'{model_code}_elas_lst=[]')\n",
    "exec(f'{model_code}_svr_lst=[]')\n",
    "exec(f'{model_code}_sr_lst=[]')\n",
    "exec(f'{model_code}_qr_lst=[]')\n",
    "exec(f'{model_code}_by_lst=[]')\n",
    "exec(f'{model_code}_bi_lst=[]')\n",
    "\n",
    "\n",
    "for fold, (train_idx, val_idx) in enumerate(skf.split(df_train[\"Id\"], df_train[\"Pawpularity\"])):\n",
    "    val_df = df_train.loc[val_idx].reset_index(drop=True)\n",
    "    #org_predict = np.load(f'./prediction/{model_code}/org/val_predicts_fold{fold}.npy')\n",
    "    elas_predict = np.load(f'{result_path}elas_head/val_elas_preds_fold{fold}.npy')\n",
    "    svr_predict = np.load(f'{result_path}svr_head/val_svr_preds_fold{fold}.npy')\n",
    "    sr_predict =  np.load(f'{result_path}simple_head/val_Simple_predicts{fold}.npy')\n",
    "    qr_predict =  np.load(f'{result_path}qr_head/val_QR_predicts{fold}.npy')\n",
    "    by_predict =  np.load(f'{result_path}by_head/val_Bayes_predicts{fold}.npy')\n",
    "    bi_predict = np.load(f'{result_path}binary_head/val_binary_predicts{fold}.npy')\n",
    "    id_lst.extend(val_df['Id'].tolist())\n",
    "    #exec(f'{model_code}_org_lst.extend(org_predict.tolist())')\n",
    "    exec(f'{model_code}_elas_lst.extend(elas_predict.tolist())')\n",
    "    exec(f'{model_code}_svr_lst.extend(svr_predict.tolist())')\n",
    "    exec(f'{model_code}_sr_lst.extend(sr_predict.tolist())')\n",
    "    exec(f'{model_code}_qr_lst.extend(qr_predict.tolist())')\n",
    "    exec(f'{model_code}_by_lst.extend(by_predict.tolist())')\n",
    "    exec(f'{model_code}_bi_lst.extend(bi_predict.tolist())')\n",
    "\n",
    "swin_2021_df = pd.DataFrame({'Id':id_lst, '2021_elas':swin_2021_elas_lst, '2021_svr':swin_2021_svr_lst, '2021_sr':swin_2021_sr_lst, '2021_qr':swin_2021_qr_lst, '2021_by':swin_2021_by_lst, '2021_bi':swin_2021_bi_lst})"
   ]
  },
  {
   "cell_type": "code",
   "execution_count": 9,
   "id": "db9b753a-515d-434d-9d33-c2f1f42fb92e",
   "metadata": {},
   "outputs": [
    {
     "data": {
      "text/html": [
       "<div>\n",
       "<style scoped>\n",
       "    .dataframe tbody tr th:only-of-type {\n",
       "        vertical-align: middle;\n",
       "    }\n",
       "\n",
       "    .dataframe tbody tr th {\n",
       "        vertical-align: top;\n",
       "    }\n",
       "\n",
       "    .dataframe thead th {\n",
       "        text-align: right;\n",
       "    }\n",
       "</style>\n",
       "<table border=\"1\" class=\"dataframe\">\n",
       "  <thead>\n",
       "    <tr style=\"text-align: right;\">\n",
       "      <th></th>\n",
       "      <th>Id</th>\n",
       "      <th>2021_elas</th>\n",
       "      <th>2021_svr</th>\n",
       "      <th>2021_sr</th>\n",
       "      <th>2021_qr</th>\n",
       "      <th>2021_by</th>\n",
       "      <th>2021_bi</th>\n",
       "    </tr>\n",
       "  </thead>\n",
       "  <tbody>\n",
       "    <tr>\n",
       "      <th>0</th>\n",
       "      <td>006cda7fec46a527f9f627f4722a2304</td>\n",
       "      <td>32.784363</td>\n",
       "      <td>22.553864</td>\n",
       "      <td>30.002338</td>\n",
       "      <td>30.615643</td>\n",
       "      <td>29.552940</td>\n",
       "      <td>False</td>\n",
       "    </tr>\n",
       "    <tr>\n",
       "      <th>1</th>\n",
       "      <td>00838b02764e8d37edde39ed18693427</td>\n",
       "      <td>33.322876</td>\n",
       "      <td>24.652695</td>\n",
       "      <td>31.495823</td>\n",
       "      <td>32.135403</td>\n",
       "      <td>30.773914</td>\n",
       "      <td>False</td>\n",
       "    </tr>\n",
       "    <tr>\n",
       "      <th>2</th>\n",
       "      <td>00d560ebe5e1b2450eb530a2c96d08a3</td>\n",
       "      <td>47.946220</td>\n",
       "      <td>54.987637</td>\n",
       "      <td>53.957947</td>\n",
       "      <td>52.327629</td>\n",
       "      <td>56.469742</td>\n",
       "      <td>False</td>\n",
       "    </tr>\n",
       "    <tr>\n",
       "      <th>3</th>\n",
       "      <td>00e75d192cd4b26798933a817b04ccd9</td>\n",
       "      <td>45.578629</td>\n",
       "      <td>48.825420</td>\n",
       "      <td>51.229626</td>\n",
       "      <td>49.689442</td>\n",
       "      <td>52.946251</td>\n",
       "      <td>False</td>\n",
       "    </tr>\n",
       "    <tr>\n",
       "      <th>4</th>\n",
       "      <td>00e83013f21b99cd7edb1d4e545f6579</td>\n",
       "      <td>37.435078</td>\n",
       "      <td>36.654896</td>\n",
       "      <td>37.446426</td>\n",
       "      <td>36.940777</td>\n",
       "      <td>37.542610</td>\n",
       "      <td>False</td>\n",
       "    </tr>\n",
       "    <tr>\n",
       "      <th>...</th>\n",
       "      <td>...</td>\n",
       "      <td>...</td>\n",
       "      <td>...</td>\n",
       "      <td>...</td>\n",
       "      <td>...</td>\n",
       "      <td>...</td>\n",
       "      <td>...</td>\n",
       "    </tr>\n",
       "    <tr>\n",
       "      <th>9907</th>\n",
       "      <td>fe5ff849e2e36859d2270cf6da95628b</td>\n",
       "      <td>39.031456</td>\n",
       "      <td>35.569244</td>\n",
       "      <td>36.542469</td>\n",
       "      <td>36.977203</td>\n",
       "      <td>36.804497</td>\n",
       "      <td>False</td>\n",
       "    </tr>\n",
       "    <tr>\n",
       "      <th>9908</th>\n",
       "      <td>fe80fffa8bab0dafba63a9b4f07b557a</td>\n",
       "      <td>28.402105</td>\n",
       "      <td>21.747021</td>\n",
       "      <td>25.962845</td>\n",
       "      <td>27.691082</td>\n",
       "      <td>25.715237</td>\n",
       "      <td>False</td>\n",
       "    </tr>\n",
       "    <tr>\n",
       "      <th>9909</th>\n",
       "      <td>fedb56afb73e703dbcad66406943b45f</td>\n",
       "      <td>53.973728</td>\n",
       "      <td>78.133957</td>\n",
       "      <td>73.141029</td>\n",
       "      <td>77.339149</td>\n",
       "      <td>77.706573</td>\n",
       "      <td>False</td>\n",
       "    </tr>\n",
       "    <tr>\n",
       "      <th>9910</th>\n",
       "      <td>feec2ab3566fd40b167c9b3736d1129c</td>\n",
       "      <td>26.026653</td>\n",
       "      <td>22.464670</td>\n",
       "      <td>23.236481</td>\n",
       "      <td>25.320240</td>\n",
       "      <td>24.011360</td>\n",
       "      <td>False</td>\n",
       "    </tr>\n",
       "    <tr>\n",
       "      <th>9911</th>\n",
       "      <td>ff6591fb1b3481fe0c366dfdcdc8ab5f</td>\n",
       "      <td>30.212458</td>\n",
       "      <td>24.628620</td>\n",
       "      <td>30.051891</td>\n",
       "      <td>30.580000</td>\n",
       "      <td>30.397661</td>\n",
       "      <td>False</td>\n",
       "    </tr>\n",
       "  </tbody>\n",
       "</table>\n",
       "<p>9912 rows × 7 columns</p>\n",
       "</div>"
      ],
      "text/plain": [
       "                                    Id  2021_elas   2021_svr    2021_sr  \\\n",
       "0     006cda7fec46a527f9f627f4722a2304  32.784363  22.553864  30.002338   \n",
       "1     00838b02764e8d37edde39ed18693427  33.322876  24.652695  31.495823   \n",
       "2     00d560ebe5e1b2450eb530a2c96d08a3  47.946220  54.987637  53.957947   \n",
       "3     00e75d192cd4b26798933a817b04ccd9  45.578629  48.825420  51.229626   \n",
       "4     00e83013f21b99cd7edb1d4e545f6579  37.435078  36.654896  37.446426   \n",
       "...                                ...        ...        ...        ...   \n",
       "9907  fe5ff849e2e36859d2270cf6da95628b  39.031456  35.569244  36.542469   \n",
       "9908  fe80fffa8bab0dafba63a9b4f07b557a  28.402105  21.747021  25.962845   \n",
       "9909  fedb56afb73e703dbcad66406943b45f  53.973728  78.133957  73.141029   \n",
       "9910  feec2ab3566fd40b167c9b3736d1129c  26.026653  22.464670  23.236481   \n",
       "9911  ff6591fb1b3481fe0c366dfdcdc8ab5f  30.212458  24.628620  30.051891   \n",
       "\n",
       "        2021_qr    2021_by  2021_bi  \n",
       "0     30.615643  29.552940    False  \n",
       "1     32.135403  30.773914    False  \n",
       "2     52.327629  56.469742    False  \n",
       "3     49.689442  52.946251    False  \n",
       "4     36.940777  37.542610    False  \n",
       "...         ...        ...      ...  \n",
       "9907  36.977203  36.804497    False  \n",
       "9908  27.691082  25.715237    False  \n",
       "9909  77.339149  77.706573    False  \n",
       "9910  25.320240  24.011360    False  \n",
       "9911  30.580000  30.397661    False  \n",
       "\n",
       "[9912 rows x 7 columns]"
      ]
     },
     "execution_count": 9,
     "metadata": {},
     "output_type": "execute_result"
    }
   ],
   "source": [
    "swin_2021_df"
   ]
  },
  {
   "cell_type": "code",
   "execution_count": 97,
   "id": "cf37cc54-6122-4a60-90e8-d242c55001cf",
   "metadata": {},
   "outputs": [
    {
     "name": "stderr",
     "output_type": "stream",
     "text": [
      "/opt/conda/lib/python3.8/site-packages/sklearn/model_selection/_split.py:676: UserWarning: The least populated class in y has only 4 members, which is less than n_splits=10.\n",
      "  warnings.warn(\n"
     ]
    }
   ],
   "source": [
    "seed = 2022\n",
    "model_code = f'swin_{seed}'\n",
    "result_path = f'../output/weights/final_weights/{model_code}_2nd_head/'\n",
    "skf = StratifiedKFold(n_splits=10, shuffle=True, random_state=seed)\n",
    "id_lst = []\n",
    "exec(f'{model_code}_org_lst=[]')\n",
    "exec(f'{model_code}_elas_lst=[]')\n",
    "exec(f'{model_code}_svr_lst=[]')\n",
    "exec(f'{model_code}_sr_lst=[]')\n",
    "exec(f'{model_code}_qr_lst=[]')\n",
    "exec(f'{model_code}_by_lst=[]')\n",
    "exec(f'{model_code}_bi_lst=[]')\n",
    "\n",
    "\n",
    "for fold, (train_idx, val_idx) in enumerate(skf.split(df_train[\"Id\"], df_train[\"Pawpularity\"])):\n",
    "    val_df = df_train.loc[val_idx].reset_index(drop=True)\n",
    "    #org_predict = np.load(f'./prediction/{model_code}/org/val_predicts{fold}.npy')\n",
    "    elas_predict = np.load(f'{result_path}elas_head/val_elas_preds_fold{fold}.npy')\n",
    "    svr_predict = np.load(f'{result_path}svr_head/val_svr_preds_fold{fold}.npy')\n",
    "    sr_predict =  np.load(f'{result_path}simple_head/val_Simple_predicts{fold}.npy')\n",
    "    qr_predict =  np.load(f'{result_path}qr_head/val_QR_predicts{fold}.npy')\n",
    "    by_predict =  np.load(f'{result_path}by_head/val_Bayes_predicts{fold}.npy')\n",
    "    #bi_predict = np.load(f'{result_path}binary_head/val_binary_predicts{fold}.npy')\n",
    "    id_lst.extend(val_df['Id'].tolist())\n",
    "    exec(f'{model_code}_org_lst.extend(org_predict.tolist())')\n",
    "    exec(f'{model_code}_elas_lst.extend(elas_predict.tolist())')\n",
    "    exec(f'{model_code}_svr_lst.extend(svr_predict.tolist())')\n",
    "    exec(f'{model_code}_sr_lst.extend(sr_predict.tolist())')\n",
    "    exec(f'{model_code}_qr_lst.extend(qr_predict.tolist())')\n",
    "    exec(f'{model_code}_by_lst.extend(by_predict.tolist())')\n",
    "#     exec(f'{model_code}_bi_lst.extend(bi_predict.tolist())')\n",
    "\n",
    "swin_2022_df = pd.DataFrame({'Id':id_lst, '2022_elas':swin_2022_elas_lst, '2022_svr':swin_2022_svr_lst, '2022_sr':swin_2022_sr_lst, '2022_qr':swin_2022_qr_lst, '2022_by':swin_2022_by_lst})\n",
    "# swin_2022_df = pd.DataFrame({'Id':id_lst, '2022_org':swin_2022_org_lst, '2022_elas':swin_2022_elas_lst, '2022_svr':swin_2022_svr_lst})"
   ]
  },
  {
   "cell_type": "code",
   "execution_count": 98,
   "id": "c71f49f7-c569-4afc-8d01-8702d8c19f43",
   "metadata": {},
   "outputs": [
    {
     "name": "stderr",
     "output_type": "stream",
     "text": [
      "/opt/conda/lib/python3.8/site-packages/sklearn/model_selection/_split.py:676: UserWarning: The least populated class in y has only 4 members, which is less than n_splits=10.\n",
      "  warnings.warn(\n"
     ]
    }
   ],
   "source": [
    "seed = 2023\n",
    "model_code = f'swin_{seed}'\n",
    "result_path = f'../output/weights/final_weights/{model_code}_2nd_head/'\n",
    "skf = StratifiedKFold(n_splits=10, shuffle=True, random_state=seed)\n",
    "id_lst = []\n",
    "exec(f'{model_code}_org_lst=[]')\n",
    "exec(f'{model_code}_elas_lst=[]')\n",
    "exec(f'{model_code}_svr_lst=[]')\n",
    "exec(f'{model_code}_sr_lst=[]')\n",
    "exec(f'{model_code}_qr_lst=[]')\n",
    "exec(f'{model_code}_by_lst=[]')\n",
    "exec(f'{model_code}_bi_lst=[]')\n",
    "\n",
    "\n",
    "for fold, (train_idx, val_idx) in enumerate(skf.split(df_train[\"Id\"], df_train[\"Pawpularity\"])):\n",
    "    val_df = df_train.loc[val_idx].reset_index(drop=True)\n",
    "    org_predict = np.load(f'./prediction/{model_code}/org/val_predicts{fold}.npy')\n",
    "    elas_predict = np.load(f'{result_path}elas_head/val_elas_preds_fold{fold}.npy')\n",
    "    svr_predict = np.load(f'{result_path}svr_head/val_svr_preds_fold{fold}.npy')\n",
    "    sr_predict =  np.load(f'{result_path}simple_head/val_Simple_predicts{fold}.npy')\n",
    "    qr_predict =  np.load(f'{result_path}qr_head/val_QR_predicts{fold}.npy')\n",
    "    by_predict =  np.load(f'{result_path}by_head/val_Bayes_predicts{fold}.npy')\n",
    "    #bi_predict = np.load(f'{result_path}binary_head/val_binary_predicts{fold}.npy')\n",
    "    id_lst.extend(val_df['Id'].tolist())\n",
    "    exec(f'{model_code}_org_lst.extend(org_predict.tolist())')\n",
    "    exec(f'{model_code}_elas_lst.extend(elas_predict.tolist())')\n",
    "    exec(f'{model_code}_svr_lst.extend(svr_predict.tolist())')\n",
    "    exec(f'{model_code}_sr_lst.extend(sr_predict.tolist())')\n",
    "    exec(f'{model_code}_qr_lst.extend(qr_predict.tolist())')\n",
    "    exec(f'{model_code}_by_lst.extend(by_predict.tolist())')\n",
    "    #exec(f'{model_code}_bi_lst.extend(bi_predict.tolist())')\n",
    "\n",
    "swin_2023_df = pd.DataFrame({'Id':id_lst, '2023_org':swin_2023_org_lst, '2023_elas':swin_2023_elas_lst, '2023_svr':swin_2023_svr_lst, '2023_sr':swin_2023_sr_lst, '2023_qr':swin_2023_qr_lst, '2023_by':swin_2023_by_lst})\n",
    "# swin_2023_df = pd.DataFrame({'Id':id_lst, '2023_org':swin_2023_org_lst, '2023_elas':swin_2023_elas_lst, '2023_svr':swin_2023_svr_lst})"
   ]
  },
  {
   "cell_type": "code",
   "execution_count": 99,
   "id": "d28e467b-9b4e-4aad-a4da-5c198797c1cf",
   "metadata": {},
   "outputs": [
    {
     "name": "stderr",
     "output_type": "stream",
     "text": [
      "/opt/conda/lib/python3.8/site-packages/sklearn/model_selection/_split.py:676: UserWarning: The least populated class in y has only 4 members, which is less than n_splits=10.\n",
      "  warnings.warn(\n"
     ]
    }
   ],
   "source": [
    "seed = 2025\n",
    "model_code = f'swin_{seed}'\n",
    "result_path = f'../output/weights/final_weights/{model_code}_2nd_head/'\n",
    "skf = StratifiedKFold(n_splits=10, shuffle=True, random_state=seed)\n",
    "id_lst = []\n",
    "exec(f'{model_code}_org_lst=[]')\n",
    "exec(f'{model_code}_elas_lst=[]')\n",
    "exec(f'{model_code}_svr_lst=[]')\n",
    "exec(f'{model_code}_sr_lst=[]')\n",
    "exec(f'{model_code}_qr_lst=[]')\n",
    "exec(f'{model_code}_by_lst=[]')\n",
    "exec(f'{model_code}_bi_lst=[]')\n",
    "\n",
    "\n",
    "for fold, (train_idx, val_idx) in enumerate(skf.split(df_train[\"Id\"], df_train[\"Pawpularity\"])):\n",
    "    val_df = df_train.loc[val_idx].reset_index(drop=True)\n",
    "    org_predict = np.load(f'./prediction/{model_code}/org/val_predicts_fold{fold}.npy')\n",
    "    elas_predict = np.load(f'{result_path}elas_head/val_elas_preds_fold{fold}.npy')\n",
    "    svr_predict = np.load(f'{result_path}svr_head/val_svr_preds_fold{fold}.npy')\n",
    "    sr_predict =  np.load(f'{result_path}simple_head/val_Simple_predicts{fold}.npy')\n",
    "    qr_predict =  np.load(f'{result_path}qr_head/val_QR_predicts{fold}.npy')\n",
    "    by_predict =  np.load(f'{result_path}by_head/val_Bayes_predicts{fold}.npy')\n",
    "    bi_predict = np.load(f'{result_path}binary_head/val_binary_predicts{fold}.npy')\n",
    "    id_lst.extend(val_df['Id'].tolist())\n",
    "    exec(f'{model_code}_org_lst.extend(org_predict.tolist())')\n",
    "    exec(f'{model_code}_elas_lst.extend(elas_predict.tolist())')\n",
    "    exec(f'{model_code}_svr_lst.extend(svr_predict.tolist())')\n",
    "    exec(f'{model_code}_sr_lst.extend(sr_predict.tolist())')\n",
    "    exec(f'{model_code}_qr_lst.extend(qr_predict.tolist())')\n",
    "    exec(f'{model_code}_by_lst.extend(by_predict.tolist())')\n",
    "    exec(f'{model_code}_bi_lst.extend(bi_predict.tolist())')\n",
    "\n",
    "swin_2025_df = pd.DataFrame({'Id':id_lst, '2025_org':swin_2025_org_lst, '2025_elas':swin_2025_elas_lst, '2025_svr':swin_2025_svr_lst, '2025_sr':swin_2025_sr_lst, '2025_qr':swin_2025_qr_lst, '2025_by':swin_2025_by_lst, '2025_bi':swin_2025_bi_lst})"
   ]
  },
  {
   "cell_type": "code",
   "execution_count": 100,
   "id": "42d286e0-fbf7-45db-8db3-77f4c4073900",
   "metadata": {},
   "outputs": [
    {
     "name": "stderr",
     "output_type": "stream",
     "text": [
      "/opt/conda/lib/python3.8/site-packages/sklearn/model_selection/_split.py:676: UserWarning: The least populated class in y has only 4 members, which is less than n_splits=10.\n",
      "  warnings.warn(\n"
     ]
    }
   ],
   "source": [
    "seed = 2026\n",
    "model_code = f'cait_{seed}'\n",
    "result_path = f'../output/weights/final_weights/{model_code}_2nd_head/'\n",
    "skf = StratifiedKFold(n_splits=10, shuffle=True, random_state=seed)\n",
    "id_lst = []\n",
    "exec(f'{model_code}_org_lst=[]')\n",
    "exec(f'{model_code}_elas_lst=[]')\n",
    "exec(f'{model_code}_svr_lst=[]')\n",
    "exec(f'{model_code}_sr_lst=[]')\n",
    "exec(f'{model_code}_qr_lst=[]')\n",
    "exec(f'{model_code}_by_lst=[]')\n",
    "exec(f'{model_code}_bi_lst=[]')\n",
    "\n",
    "\n",
    "for fold, (train_idx, val_idx) in enumerate(skf.split(df_train[\"Id\"], df_train[\"Pawpularity\"])):\n",
    "    val_df = df_train.loc[val_idx].reset_index(drop=True)\n",
    "    org_predict = np.load(f'./prediction/{model_code}/org/val_predicts_fold{fold}.npy')\n",
    "    elas_predict = np.load(f'{result_path}elas_head/val_elas_preds_fold{fold}.npy')\n",
    "    svr_predict = np.load(f'{result_path}svr_head/val_svr_preds_fold{fold}.npy')\n",
    "    sr_predict =  np.load(f'{result_path}simple_head/val_Simple_predicts{fold}.npy')\n",
    "    qr_predict =  np.load(f'{result_path}qr_head/val_QR_predicts{fold}.npy')\n",
    "    by_predict =  np.load(f'{result_path}by_head/val_Bayes_predicts{fold}.npy')\n",
    "    bi_predict = np.load(f'{result_path}binary_head/val_binary_predicts{fold}.npy')\n",
    "    id_lst.extend(val_df['Id'].tolist())\n",
    "    exec(f'{model_code}_org_lst.extend(org_predict.tolist())')\n",
    "    exec(f'{model_code}_elas_lst.extend(elas_predict.tolist())')\n",
    "    exec(f'{model_code}_svr_lst.extend(svr_predict.tolist())')\n",
    "    exec(f'{model_code}_sr_lst.extend(sr_predict.tolist())')\n",
    "    exec(f'{model_code}_qr_lst.extend(qr_predict.tolist())')\n",
    "    exec(f'{model_code}_by_lst.extend(by_predict.tolist())')\n",
    "    exec(f'{model_code}_bi_lst.extend(bi_predict.tolist())')\n",
    "\n",
    "cait_2026_df = pd.DataFrame({'Id':id_lst, '2026_org':cait_2026_org_lst, '2026_elas':cait_2026_elas_lst, '2026_svr':cait_2026_svr_lst, '2026_sr':cait_2026_sr_lst, '2026_qr':cait_2026_qr_lst, '2026_by':cait_2026_by_lst, '2026_bi':cait_2026_bi_lst})"
   ]
  },
  {
   "cell_type": "code",
   "execution_count": 101,
   "id": "bd108c3c-ad5b-43bb-a4cf-1aa64b2104cf",
   "metadata": {},
   "outputs": [],
   "source": [
    "pred_df = pd.merge(left = swin_2021_df , right = swin_2022_df, how = \"inner\", on = \"Id\")\n",
    "pred_df = pd.merge(left = pred_df , right = swin_2023_df, how = \"inner\", on = \"Id\")\n",
    "pred_df = pd.merge(left = pred_df , right = swin_2025_df, how = \"inner\", on = \"Id\")\n",
    "pred_df = pd.merge(left = pred_df , right = cait_2026_df, how = \"inner\", on = \"Id\")"
   ]
  },
  {
   "cell_type": "code",
   "execution_count": 11,
   "id": "939ffccc-a15e-495c-bf12-34dce3635c12",
   "metadata": {},
   "outputs": [],
   "source": [
    "answer_df = pd.DataFrame({'Id' : df_train['Id'], 'answer' : df_train['Pawpularity']})"
   ]
  },
  {
   "cell_type": "code",
   "execution_count": 12,
   "id": "2d9e8406-84ba-45cc-8afa-bd9b2a875a4e",
   "metadata": {},
   "outputs": [],
   "source": [
    "#final_df = pd.merge(left = answer_df , right = pred_df, how = \"inner\", on = \"Id\")\n",
    "final_df = pd.merge(left = answer_df , right = swin_2021_df, how = \"inner\", on = \"Id\")"
   ]
  },
  {
   "cell_type": "code",
   "execution_count": 13,
   "id": "5653e0df-3db9-41ce-b3dc-728391e2dd26",
   "metadata": {},
   "outputs": [
    {
     "data": {
      "text/plain": [
       "(9912, 8)"
      ]
     },
     "execution_count": 13,
     "metadata": {},
     "output_type": "execute_result"
    }
   ],
   "source": [
    "final_df.shape"
   ]
  },
  {
   "cell_type": "code",
   "execution_count": 14,
   "id": "01c9ce8d-c874-45d6-9ec5-36abf856dcbd",
   "metadata": {},
   "outputs": [
    {
     "name": "stdout",
     "output_type": "stream",
     "text": [
      "2021_elas score : 17.7199\n",
      "2021_svr score : 17.6974\n",
      "2021_sr score : 17.2483\n",
      "2021_qr score : 17.3533\n",
      "2021_by score : 17.2843\n",
      "2021_bi score : 43.1650\n"
     ]
    }
   ],
   "source": [
    "from sklearn.metrics import mean_squared_error\n",
    "\n",
    "pred_cols = final_df.columns[2:]\n",
    "for col in pred_cols:\n",
    "    pred = final_df[col]\n",
    "    answer = final_df['answer']\n",
    "    score = mean_squared_error(answer, pred)**0.5\n",
    "    print(f'{col} score : {score:.4f}')\n",
    "\n"
   ]
  },
  {
   "cell_type": "code",
   "execution_count": 16,
   "id": "6c5fc664-2c86-4d9d-bddb-6f92fdc1df22",
   "metadata": {},
   "outputs": [
    {
     "name": "stdout",
     "output_type": "stream",
     "text": [
      "original ensemble score : 17.2240\n"
     ]
    }
   ],
   "source": [
    "ens_pred_0 = (final_df['2021_elas'] + final_df['2021_svr']  + final_df['2021_sr'] + final_df['2021_by'] + final_df['2021_qr']) / 5.\n",
    "score = mean_squared_error(answer, ens_pred_0)**0.5\n",
    "print(f'original ensemble score : {score:.4f}') "
   ]
  },
  {
   "cell_type": "code",
   "execution_count": 12,
   "id": "a833b6c2-a2da-4290-a971-c08d3016e30d",
   "metadata": {},
   "outputs": [
    {
     "data": {
      "text/html": [
       "<div>\n",
       "<style scoped>\n",
       "    .dataframe tbody tr th:only-of-type {\n",
       "        vertical-align: middle;\n",
       "    }\n",
       "\n",
       "    .dataframe tbody tr th {\n",
       "        vertical-align: top;\n",
       "    }\n",
       "\n",
       "    .dataframe thead th {\n",
       "        text-align: right;\n",
       "    }\n",
       "</style>\n",
       "<table border=\"1\" class=\"dataframe\">\n",
       "  <thead>\n",
       "    <tr style=\"text-align: right;\">\n",
       "      <th></th>\n",
       "      <th>Id</th>\n",
       "      <th>answer</th>\n",
       "      <th>2021_org</th>\n",
       "      <th>2021_elas</th>\n",
       "      <th>2021_svr</th>\n",
       "      <th>2021_sr</th>\n",
       "      <th>2021_qr</th>\n",
       "      <th>2021_by</th>\n",
       "      <th>2021_bi</th>\n",
       "      <th>2022_org</th>\n",
       "      <th>...</th>\n",
       "      <th>2025_qr</th>\n",
       "      <th>2025_by</th>\n",
       "      <th>2025_bi</th>\n",
       "      <th>2026_org</th>\n",
       "      <th>2026_elas</th>\n",
       "      <th>2026_svr</th>\n",
       "      <th>2026_sr</th>\n",
       "      <th>2026_qr</th>\n",
       "      <th>2026_by</th>\n",
       "      <th>2026_bi</th>\n",
       "    </tr>\n",
       "  </thead>\n",
       "  <tbody>\n",
       "    <tr>\n",
       "      <th>0</th>\n",
       "      <td>0007de18844b0dbbb5e1f607da0606e0</td>\n",
       "      <td>63</td>\n",
       "      <td>50.264412</td>\n",
       "      <td>46.881035</td>\n",
       "      <td>52.556423</td>\n",
       "      <td>51.958691</td>\n",
       "      <td>51.304298</td>\n",
       "      <td>51.427704</td>\n",
       "      <td>False</td>\n",
       "      <td>49.663528</td>\n",
       "      <td>...</td>\n",
       "      <td>48.020218</td>\n",
       "      <td>48.450264</td>\n",
       "      <td>False</td>\n",
       "      <td>50.561424</td>\n",
       "      <td>50.318722</td>\n",
       "      <td>63.362129</td>\n",
       "      <td>54.595970</td>\n",
       "      <td>55.345337</td>\n",
       "      <td>55.884056</td>\n",
       "      <td>False</td>\n",
       "    </tr>\n",
       "    <tr>\n",
       "      <th>1</th>\n",
       "      <td>0009c66b9439883ba2750fb825e1d7db</td>\n",
       "      <td>42</td>\n",
       "      <td>46.371140</td>\n",
       "      <td>43.515343</td>\n",
       "      <td>44.773918</td>\n",
       "      <td>45.467339</td>\n",
       "      <td>42.388294</td>\n",
       "      <td>44.691162</td>\n",
       "      <td>False</td>\n",
       "      <td>46.263962</td>\n",
       "      <td>...</td>\n",
       "      <td>48.376640</td>\n",
       "      <td>48.487076</td>\n",
       "      <td>False</td>\n",
       "      <td>40.595482</td>\n",
       "      <td>43.191414</td>\n",
       "      <td>38.399265</td>\n",
       "      <td>44.155422</td>\n",
       "      <td>42.352463</td>\n",
       "      <td>44.061043</td>\n",
       "      <td>False</td>\n",
       "    </tr>\n",
       "    <tr>\n",
       "      <th>2</th>\n",
       "      <td>0013fd999caf9a3efe1352ca1b0d937e</td>\n",
       "      <td>28</td>\n",
       "      <td>39.563145</td>\n",
       "      <td>42.167603</td>\n",
       "      <td>33.594528</td>\n",
       "      <td>40.123505</td>\n",
       "      <td>38.027458</td>\n",
       "      <td>37.437073</td>\n",
       "      <td>False</td>\n",
       "      <td>38.911697</td>\n",
       "      <td>...</td>\n",
       "      <td>39.941864</td>\n",
       "      <td>41.557976</td>\n",
       "      <td>False</td>\n",
       "      <td>31.726074</td>\n",
       "      <td>36.853706</td>\n",
       "      <td>31.681709</td>\n",
       "      <td>36.189163</td>\n",
       "      <td>34.086868</td>\n",
       "      <td>34.540051</td>\n",
       "      <td>False</td>\n",
       "    </tr>\n",
       "    <tr>\n",
       "      <th>3</th>\n",
       "      <td>0018df346ac9c1d8413cfcc888ca8246</td>\n",
       "      <td>15</td>\n",
       "      <td>65.116127</td>\n",
       "      <td>56.978245</td>\n",
       "      <td>75.548248</td>\n",
       "      <td>70.248993</td>\n",
       "      <td>74.075348</td>\n",
       "      <td>67.142876</td>\n",
       "      <td>True</td>\n",
       "      <td>57.254402</td>\n",
       "      <td>...</td>\n",
       "      <td>60.365112</td>\n",
       "      <td>57.821667</td>\n",
       "      <td>False</td>\n",
       "      <td>55.734383</td>\n",
       "      <td>51.124466</td>\n",
       "      <td>56.790333</td>\n",
       "      <td>54.034592</td>\n",
       "      <td>60.137524</td>\n",
       "      <td>56.013607</td>\n",
       "      <td>False</td>\n",
       "    </tr>\n",
       "    <tr>\n",
       "      <th>4</th>\n",
       "      <td>001dc955e10590d3ca4673f034feeef2</td>\n",
       "      <td>72</td>\n",
       "      <td>47.531494</td>\n",
       "      <td>43.892235</td>\n",
       "      <td>49.145515</td>\n",
       "      <td>49.453369</td>\n",
       "      <td>49.163174</td>\n",
       "      <td>44.637566</td>\n",
       "      <td>False</td>\n",
       "      <td>44.072258</td>\n",
       "      <td>...</td>\n",
       "      <td>48.036255</td>\n",
       "      <td>44.902103</td>\n",
       "      <td>False</td>\n",
       "      <td>46.865158</td>\n",
       "      <td>46.287949</td>\n",
       "      <td>52.079769</td>\n",
       "      <td>51.126160</td>\n",
       "      <td>52.821369</td>\n",
       "      <td>54.919159</td>\n",
       "      <td>False</td>\n",
       "    </tr>\n",
       "    <tr>\n",
       "      <th>...</th>\n",
       "      <td>...</td>\n",
       "      <td>...</td>\n",
       "      <td>...</td>\n",
       "      <td>...</td>\n",
       "      <td>...</td>\n",
       "      <td>...</td>\n",
       "      <td>...</td>\n",
       "      <td>...</td>\n",
       "      <td>...</td>\n",
       "      <td>...</td>\n",
       "      <td>...</td>\n",
       "      <td>...</td>\n",
       "      <td>...</td>\n",
       "      <td>...</td>\n",
       "      <td>...</td>\n",
       "      <td>...</td>\n",
       "      <td>...</td>\n",
       "      <td>...</td>\n",
       "      <td>...</td>\n",
       "      <td>...</td>\n",
       "      <td>...</td>\n",
       "    </tr>\n",
       "    <tr>\n",
       "      <th>9907</th>\n",
       "      <td>ffbfa0383c34dc513c95560d6e1fdb57</td>\n",
       "      <td>15</td>\n",
       "      <td>22.319740</td>\n",
       "      <td>26.487545</td>\n",
       "      <td>14.509028</td>\n",
       "      <td>23.471291</td>\n",
       "      <td>26.731678</td>\n",
       "      <td>22.570940</td>\n",
       "      <td>False</td>\n",
       "      <td>26.850883</td>\n",
       "      <td>...</td>\n",
       "      <td>25.144611</td>\n",
       "      <td>25.299936</td>\n",
       "      <td>False</td>\n",
       "      <td>25.201391</td>\n",
       "      <td>30.984123</td>\n",
       "      <td>15.668083</td>\n",
       "      <td>24.882383</td>\n",
       "      <td>27.896954</td>\n",
       "      <td>24.875902</td>\n",
       "      <td>False</td>\n",
       "    </tr>\n",
       "    <tr>\n",
       "      <th>9908</th>\n",
       "      <td>ffcc8532d76436fc79e50eb2e5238e45</td>\n",
       "      <td>70</td>\n",
       "      <td>29.887276</td>\n",
       "      <td>35.193298</td>\n",
       "      <td>25.114605</td>\n",
       "      <td>33.337479</td>\n",
       "      <td>30.228403</td>\n",
       "      <td>32.327183</td>\n",
       "      <td>False</td>\n",
       "      <td>38.134369</td>\n",
       "      <td>...</td>\n",
       "      <td>33.094212</td>\n",
       "      <td>31.675648</td>\n",
       "      <td>False</td>\n",
       "      <td>30.802023</td>\n",
       "      <td>36.707413</td>\n",
       "      <td>32.461620</td>\n",
       "      <td>34.523975</td>\n",
       "      <td>33.645344</td>\n",
       "      <td>31.805538</td>\n",
       "      <td>False</td>\n",
       "    </tr>\n",
       "    <tr>\n",
       "      <th>9909</th>\n",
       "      <td>ffdf2e8673a1da6fb80342fa3b119a20</td>\n",
       "      <td>20</td>\n",
       "      <td>26.741474</td>\n",
       "      <td>30.546419</td>\n",
       "      <td>30.605370</td>\n",
       "      <td>28.941940</td>\n",
       "      <td>31.684917</td>\n",
       "      <td>28.804199</td>\n",
       "      <td>False</td>\n",
       "      <td>28.110104</td>\n",
       "      <td>...</td>\n",
       "      <td>27.476896</td>\n",
       "      <td>26.840141</td>\n",
       "      <td>False</td>\n",
       "      <td>27.213511</td>\n",
       "      <td>32.114563</td>\n",
       "      <td>19.437393</td>\n",
       "      <td>29.679798</td>\n",
       "      <td>30.513903</td>\n",
       "      <td>27.525511</td>\n",
       "      <td>False</td>\n",
       "    </tr>\n",
       "    <tr>\n",
       "      <th>9910</th>\n",
       "      <td>fff19e2ce11718548fa1c5d039a5192a</td>\n",
       "      <td>20</td>\n",
       "      <td>30.870129</td>\n",
       "      <td>37.987396</td>\n",
       "      <td>31.782473</td>\n",
       "      <td>32.142033</td>\n",
       "      <td>33.780701</td>\n",
       "      <td>35.236729</td>\n",
       "      <td>False</td>\n",
       "      <td>34.662926</td>\n",
       "      <td>...</td>\n",
       "      <td>41.974777</td>\n",
       "      <td>44.662407</td>\n",
       "      <td>False</td>\n",
       "      <td>40.514267</td>\n",
       "      <td>40.141335</td>\n",
       "      <td>32.376526</td>\n",
       "      <td>36.985977</td>\n",
       "      <td>35.731079</td>\n",
       "      <td>36.518471</td>\n",
       "      <td>False</td>\n",
       "    </tr>\n",
       "    <tr>\n",
       "      <th>9911</th>\n",
       "      <td>fff8e47c766799c9e12f3cb3d66ad228</td>\n",
       "      <td>30</td>\n",
       "      <td>43.522869</td>\n",
       "      <td>42.678730</td>\n",
       "      <td>40.658005</td>\n",
       "      <td>37.897743</td>\n",
       "      <td>37.000343</td>\n",
       "      <td>39.541100</td>\n",
       "      <td>False</td>\n",
       "      <td>32.533066</td>\n",
       "      <td>...</td>\n",
       "      <td>36.659573</td>\n",
       "      <td>37.760628</td>\n",
       "      <td>False</td>\n",
       "      <td>42.698002</td>\n",
       "      <td>41.904526</td>\n",
       "      <td>46.734001</td>\n",
       "      <td>42.282101</td>\n",
       "      <td>41.578236</td>\n",
       "      <td>40.504616</td>\n",
       "      <td>False</td>\n",
       "    </tr>\n",
       "  </tbody>\n",
       "</table>\n",
       "<p>9912 rows × 26 columns</p>\n",
       "</div>"
      ],
      "text/plain": [
       "                                    Id  answer   2021_org  2021_elas  \\\n",
       "0     0007de18844b0dbbb5e1f607da0606e0      63  50.264412  46.881035   \n",
       "1     0009c66b9439883ba2750fb825e1d7db      42  46.371140  43.515343   \n",
       "2     0013fd999caf9a3efe1352ca1b0d937e      28  39.563145  42.167603   \n",
       "3     0018df346ac9c1d8413cfcc888ca8246      15  65.116127  56.978245   \n",
       "4     001dc955e10590d3ca4673f034feeef2      72  47.531494  43.892235   \n",
       "...                                ...     ...        ...        ...   \n",
       "9907  ffbfa0383c34dc513c95560d6e1fdb57      15  22.319740  26.487545   \n",
       "9908  ffcc8532d76436fc79e50eb2e5238e45      70  29.887276  35.193298   \n",
       "9909  ffdf2e8673a1da6fb80342fa3b119a20      20  26.741474  30.546419   \n",
       "9910  fff19e2ce11718548fa1c5d039a5192a      20  30.870129  37.987396   \n",
       "9911  fff8e47c766799c9e12f3cb3d66ad228      30  43.522869  42.678730   \n",
       "\n",
       "       2021_svr    2021_sr    2021_qr    2021_by  2021_bi   2022_org  ...  \\\n",
       "0     52.556423  51.958691  51.304298  51.427704    False  49.663528  ...   \n",
       "1     44.773918  45.467339  42.388294  44.691162    False  46.263962  ...   \n",
       "2     33.594528  40.123505  38.027458  37.437073    False  38.911697  ...   \n",
       "3     75.548248  70.248993  74.075348  67.142876     True  57.254402  ...   \n",
       "4     49.145515  49.453369  49.163174  44.637566    False  44.072258  ...   \n",
       "...         ...        ...        ...        ...      ...        ...  ...   \n",
       "9907  14.509028  23.471291  26.731678  22.570940    False  26.850883  ...   \n",
       "9908  25.114605  33.337479  30.228403  32.327183    False  38.134369  ...   \n",
       "9909  30.605370  28.941940  31.684917  28.804199    False  28.110104  ...   \n",
       "9910  31.782473  32.142033  33.780701  35.236729    False  34.662926  ...   \n",
       "9911  40.658005  37.897743  37.000343  39.541100    False  32.533066  ...   \n",
       "\n",
       "        2025_qr    2025_by  2025_bi   2026_org  2026_elas   2026_svr  \\\n",
       "0     48.020218  48.450264    False  50.561424  50.318722  63.362129   \n",
       "1     48.376640  48.487076    False  40.595482  43.191414  38.399265   \n",
       "2     39.941864  41.557976    False  31.726074  36.853706  31.681709   \n",
       "3     60.365112  57.821667    False  55.734383  51.124466  56.790333   \n",
       "4     48.036255  44.902103    False  46.865158  46.287949  52.079769   \n",
       "...         ...        ...      ...        ...        ...        ...   \n",
       "9907  25.144611  25.299936    False  25.201391  30.984123  15.668083   \n",
       "9908  33.094212  31.675648    False  30.802023  36.707413  32.461620   \n",
       "9909  27.476896  26.840141    False  27.213511  32.114563  19.437393   \n",
       "9910  41.974777  44.662407    False  40.514267  40.141335  32.376526   \n",
       "9911  36.659573  37.760628    False  42.698002  41.904526  46.734001   \n",
       "\n",
       "        2026_sr    2026_qr    2026_by  2026_bi  \n",
       "0     54.595970  55.345337  55.884056    False  \n",
       "1     44.155422  42.352463  44.061043    False  \n",
       "2     36.189163  34.086868  34.540051    False  \n",
       "3     54.034592  60.137524  56.013607    False  \n",
       "4     51.126160  52.821369  54.919159    False  \n",
       "...         ...        ...        ...      ...  \n",
       "9907  24.882383  27.896954  24.875902    False  \n",
       "9908  34.523975  33.645344  31.805538    False  \n",
       "9909  29.679798  30.513903  27.525511    False  \n",
       "9910  36.985977  35.731079  36.518471    False  \n",
       "9911  42.282101  41.578236  40.504616    False  \n",
       "\n",
       "[9912 rows x 26 columns]"
      ]
     },
     "execution_count": 12,
     "metadata": {},
     "output_type": "execute_result"
    }
   ],
   "source": [
    "final_df"
   ]
  },
  {
   "cell_type": "code",
   "execution_count": 107,
   "id": "56a8eeb8-afb3-4a6a-85f7-1348577d00e9",
   "metadata": {},
   "outputs": [
    {
     "name": "stdout",
     "output_type": "stream",
     "text": [
      "original ensemble score : 17.1317\n"
     ]
    }
   ],
   "source": [
    "ens_pred_0 = (final_df['2021_org'] + final_df['2021_elas'] + final_df['2021_svr']  + final_df['2022_elas'] + final_df['2022_svr'] + final_df['2025_org']  + final_df['2025_elas'] + final_df['2025_svr'] + final_df['2026_org'] + final_df['2026_elas'] + final_df['2026_svr']) / 11.\n",
    "score = mean_squared_error(answer, ens_pred_0)**0.5\n",
    "print(f'original ensemble score : {score:.4f}') "
   ]
  },
  {
   "cell_type": "code",
   "execution_count": 108,
   "id": "a4051bf6-cab2-4084-a4b9-0f4841425a41",
   "metadata": {},
   "outputs": [
    {
     "name": "stdout",
     "output_type": "stream",
     "text": [
      "2021 ensemble score : 17.2240\n"
     ]
    }
   ],
   "source": [
    "ens_pred_1 = (final_df['2021_sr'] + final_df['2021_qr'] + final_df['2021_by'] + final_df['2021_elas'] + final_df['2021_svr']) / 5.\n",
    "#ens_pred_1 = (final_df['2021_sr'] + final_df['2021_qr'] + final_df['2021_by']) / 5.\n",
    "score = mean_squared_error(answer, ens_pred_1)**0.5\n",
    "print(f'2021 ensemble score : {score:.4f}') "
   ]
  },
  {
   "cell_type": "code",
   "execution_count": 109,
   "id": "622c9cb4-5c8e-4769-8d62-aa62e061e273",
   "metadata": {},
   "outputs": [
    {
     "name": "stdout",
     "output_type": "stream",
     "text": [
      "2022 ensemble score : 17.4409\n"
     ]
    }
   ],
   "source": [
    "ens_pred_2 = (final_df['2022_sr'] + final_df['2022_qr'] + final_df['2022_by'] + final_df['2022_elas'] + final_df['2022_svr']) / 5.\n",
    "score = mean_squared_error(answer, ens_pred_2)**0.5\n",
    "print(f'2022 ensemble score : {score:.4f}') "
   ]
  },
  {
   "cell_type": "code",
   "execution_count": 110,
   "id": "734b088b-5cca-4252-89ce-0d13e7321943",
   "metadata": {},
   "outputs": [
    {
     "name": "stdout",
     "output_type": "stream",
     "text": [
      "2025 ensemble score : 17.2690\n"
     ]
    }
   ],
   "source": [
    "ens_pred_3 = (final_df['2025_sr'] + final_df['2025_qr'] + final_df['2025_by']+ final_df['2025_elas'] + final_df['2025_svr']) / 5.\n",
    "score = mean_squared_error(answer, ens_pred_3)**0.5\n",
    "print(f'2025 ensemble score : {score:.4f}') "
   ]
  },
  {
   "cell_type": "code",
   "execution_count": 111,
   "id": "2aafe10b-80e9-4c9b-b9b9-2fb0639e9d89",
   "metadata": {},
   "outputs": [
    {
     "name": "stdout",
     "output_type": "stream",
     "text": [
      "2026 ensemble score : 17.3283\n"
     ]
    }
   ],
   "source": [
    "ens_pred_4 = (final_df['2026_sr'] + final_df['2026_qr'] + final_df['2026_by'] + final_df['2026_elas'] + final_df['2026_svr']) / 5.\n",
    "score = mean_squared_error(answer, ens_pred_4)**0.5\n",
    "print(f'2026 ensemble score : {score:.4f}') "
   ]
  },
  {
   "cell_type": "code",
   "execution_count": 112,
   "id": "d2c3adde-761d-47b9-ad4c-3e64681a1ee5",
   "metadata": {},
   "outputs": [
    {
     "name": "stdout",
     "output_type": "stream",
     "text": [
      "total score : 17.1001\n"
     ]
    }
   ],
   "source": [
    "ens_pred = (ens_pred_1 + ens_pred_2 + ens_pred_3 + ens_pred_4) / 4.\n",
    "score = mean_squared_error(answer, ens_pred)**0.5\n",
    "print(f'total score : {score:.4f}') "
   ]
  },
  {
   "cell_type": "code",
   "execution_count": 113,
   "id": "95a6a55a-428a-45ac-b8e7-f80304f74c74",
   "metadata": {},
   "outputs": [
    {
     "name": "stdout",
     "output_type": "stream",
     "text": [
      "total score : 17.0955\n"
     ]
    }
   ],
   "source": [
    "ens_pred = (final_df['2021_sr'] + final_df['2021_qr'] + final_df['2021_by'] + final_df['2021_elas'] + final_df['2021_svr'] + final_df['2022_sr'] + final_df['2022_qr'] + final_df['2022_by'] + final_df['2025_sr'] + final_df['2025_qr'] + final_df['2025_by'] + final_df['2026_sr'] + final_df['2026_qr'] + final_df['2026_by'] ) / 14.\n",
    "score = mean_squared_error(answer, ens_pred)**0.5\n",
    "print(f'total score : {score:.4f}') "
   ]
  },
  {
   "cell_type": "markdown",
   "id": "79b443f1-e28f-4dce-b374-acfc449e0712",
   "metadata": {},
   "source": [
    "# Add binary head"
   ]
  },
  {
   "cell_type": "code",
   "execution_count": 38,
   "id": "cb440156-4157-490e-8aaf-9c0088704e49",
   "metadata": {},
   "outputs": [
    {
     "name": "stdout",
     "output_type": "stream",
     "text": [
      "2021 ensemble score : 19.8097\n"
     ]
    }
   ],
   "source": [
    "ens_pred_1 = (final_df['2021_sr'] + final_df['2021_qr'] + final_df['2021_by']+ final_df['2021_elas'] + final_df['2021_svr']) / 5.\n",
    "ens_pred_1[final_df['2021_bi']] = 100\n",
    "score = mean_squared_error(answer, ens_pred_1)**0.5\n",
    "print(f'2021 ensemble score : {score:.4f}') "
   ]
  },
  {
   "cell_type": "code",
   "execution_count": 39,
   "id": "00313a68-3c5c-41c7-b862-b2b2aeed810e",
   "metadata": {},
   "outputs": [
    {
     "ename": "KeyError",
     "evalue": "'2022_bi'",
     "output_type": "error",
     "traceback": [
      "\u001b[0;31m---------------------------------------------------------------------------\u001b[0m",
      "\u001b[0;31mKeyError\u001b[0m                                  Traceback (most recent call last)",
      "\u001b[0;32m/opt/conda/lib/python3.8/site-packages/pandas/core/indexes/base.py\u001b[0m in \u001b[0;36mget_loc\u001b[0;34m(self, key, method, tolerance)\u001b[0m\n\u001b[1;32m   3360\u001b[0m             \u001b[0;32mtry\u001b[0m\u001b[0;34m:\u001b[0m\u001b[0;34m\u001b[0m\u001b[0;34m\u001b[0m\u001b[0m\n\u001b[0;32m-> 3361\u001b[0;31m                 \u001b[0;32mreturn\u001b[0m \u001b[0mself\u001b[0m\u001b[0;34m.\u001b[0m\u001b[0m_engine\u001b[0m\u001b[0;34m.\u001b[0m\u001b[0mget_loc\u001b[0m\u001b[0;34m(\u001b[0m\u001b[0mcasted_key\u001b[0m\u001b[0;34m)\u001b[0m\u001b[0;34m\u001b[0m\u001b[0;34m\u001b[0m\u001b[0m\n\u001b[0m\u001b[1;32m   3362\u001b[0m             \u001b[0;32mexcept\u001b[0m \u001b[0mKeyError\u001b[0m \u001b[0;32mas\u001b[0m \u001b[0merr\u001b[0m\u001b[0;34m:\u001b[0m\u001b[0;34m\u001b[0m\u001b[0;34m\u001b[0m\u001b[0m\n",
      "\u001b[0;32m/opt/conda/lib/python3.8/site-packages/pandas/_libs/index.pyx\u001b[0m in \u001b[0;36mpandas._libs.index.IndexEngine.get_loc\u001b[0;34m()\u001b[0m\n",
      "\u001b[0;32m/opt/conda/lib/python3.8/site-packages/pandas/_libs/index.pyx\u001b[0m in \u001b[0;36mpandas._libs.index.IndexEngine.get_loc\u001b[0;34m()\u001b[0m\n",
      "\u001b[0;32mpandas/_libs/hashtable_class_helper.pxi\u001b[0m in \u001b[0;36mpandas._libs.hashtable.PyObjectHashTable.get_item\u001b[0;34m()\u001b[0m\n",
      "\u001b[0;32mpandas/_libs/hashtable_class_helper.pxi\u001b[0m in \u001b[0;36mpandas._libs.hashtable.PyObjectHashTable.get_item\u001b[0;34m()\u001b[0m\n",
      "\u001b[0;31mKeyError\u001b[0m: '2022_bi'",
      "\nThe above exception was the direct cause of the following exception:\n",
      "\u001b[0;31mKeyError\u001b[0m                                  Traceback (most recent call last)",
      "\u001b[0;32m<ipython-input-39-38281f4c35df>\u001b[0m in \u001b[0;36m<module>\u001b[0;34m\u001b[0m\n\u001b[1;32m      1\u001b[0m \u001b[0mens_pred_2\u001b[0m \u001b[0;34m=\u001b[0m \u001b[0;34m(\u001b[0m\u001b[0mfinal_df\u001b[0m\u001b[0;34m[\u001b[0m\u001b[0;34m'2022_sr'\u001b[0m\u001b[0;34m]\u001b[0m \u001b[0;34m+\u001b[0m \u001b[0mfinal_df\u001b[0m\u001b[0;34m[\u001b[0m\u001b[0;34m'2022_qr'\u001b[0m\u001b[0;34m]\u001b[0m \u001b[0;34m+\u001b[0m \u001b[0mfinal_df\u001b[0m\u001b[0;34m[\u001b[0m\u001b[0;34m'2022_by'\u001b[0m\u001b[0;34m]\u001b[0m \u001b[0;34m+\u001b[0m \u001b[0mfinal_df\u001b[0m\u001b[0;34m[\u001b[0m\u001b[0;34m'2022_elas'\u001b[0m\u001b[0;34m]\u001b[0m \u001b[0;34m+\u001b[0m \u001b[0mfinal_df\u001b[0m\u001b[0;34m[\u001b[0m\u001b[0;34m'2022_svr'\u001b[0m\u001b[0;34m]\u001b[0m\u001b[0;34m)\u001b[0m \u001b[0;34m/\u001b[0m \u001b[0;36m5.\u001b[0m\u001b[0;34m\u001b[0m\u001b[0;34m\u001b[0m\u001b[0m\n\u001b[0;32m----> 2\u001b[0;31m \u001b[0mens_pred_2\u001b[0m\u001b[0;34m[\u001b[0m\u001b[0mfinal_df\u001b[0m\u001b[0;34m[\u001b[0m\u001b[0;34m'2022_bi'\u001b[0m\u001b[0;34m]\u001b[0m\u001b[0;34m]\u001b[0m \u001b[0;34m=\u001b[0m \u001b[0;36m100\u001b[0m\u001b[0;34m\u001b[0m\u001b[0;34m\u001b[0m\u001b[0m\n\u001b[0m\u001b[1;32m      3\u001b[0m \u001b[0mscore\u001b[0m \u001b[0;34m=\u001b[0m \u001b[0mmean_squared_error\u001b[0m\u001b[0;34m(\u001b[0m\u001b[0manswer\u001b[0m\u001b[0;34m,\u001b[0m \u001b[0mens_pred_2\u001b[0m\u001b[0;34m)\u001b[0m\u001b[0;34m**\u001b[0m\u001b[0;36m0.5\u001b[0m\u001b[0;34m\u001b[0m\u001b[0;34m\u001b[0m\u001b[0m\n\u001b[1;32m      4\u001b[0m \u001b[0mprint\u001b[0m\u001b[0;34m(\u001b[0m\u001b[0;34mf'2022 ensemble score : {score:.4f}'\u001b[0m\u001b[0;34m)\u001b[0m\u001b[0;34m\u001b[0m\u001b[0;34m\u001b[0m\u001b[0m\n",
      "\u001b[0;32m/opt/conda/lib/python3.8/site-packages/pandas/core/frame.py\u001b[0m in \u001b[0;36m__getitem__\u001b[0;34m(self, key)\u001b[0m\n\u001b[1;32m   3456\u001b[0m             \u001b[0;32mif\u001b[0m \u001b[0mself\u001b[0m\u001b[0;34m.\u001b[0m\u001b[0mcolumns\u001b[0m\u001b[0;34m.\u001b[0m\u001b[0mnlevels\u001b[0m \u001b[0;34m>\u001b[0m \u001b[0;36m1\u001b[0m\u001b[0;34m:\u001b[0m\u001b[0;34m\u001b[0m\u001b[0;34m\u001b[0m\u001b[0m\n\u001b[1;32m   3457\u001b[0m                 \u001b[0;32mreturn\u001b[0m \u001b[0mself\u001b[0m\u001b[0;34m.\u001b[0m\u001b[0m_getitem_multilevel\u001b[0m\u001b[0;34m(\u001b[0m\u001b[0mkey\u001b[0m\u001b[0;34m)\u001b[0m\u001b[0;34m\u001b[0m\u001b[0;34m\u001b[0m\u001b[0m\n\u001b[0;32m-> 3458\u001b[0;31m             \u001b[0mindexer\u001b[0m \u001b[0;34m=\u001b[0m \u001b[0mself\u001b[0m\u001b[0;34m.\u001b[0m\u001b[0mcolumns\u001b[0m\u001b[0;34m.\u001b[0m\u001b[0mget_loc\u001b[0m\u001b[0;34m(\u001b[0m\u001b[0mkey\u001b[0m\u001b[0;34m)\u001b[0m\u001b[0;34m\u001b[0m\u001b[0;34m\u001b[0m\u001b[0m\n\u001b[0m\u001b[1;32m   3459\u001b[0m             \u001b[0;32mif\u001b[0m \u001b[0mis_integer\u001b[0m\u001b[0;34m(\u001b[0m\u001b[0mindexer\u001b[0m\u001b[0;34m)\u001b[0m\u001b[0;34m:\u001b[0m\u001b[0;34m\u001b[0m\u001b[0;34m\u001b[0m\u001b[0m\n\u001b[1;32m   3460\u001b[0m                 \u001b[0mindexer\u001b[0m \u001b[0;34m=\u001b[0m \u001b[0;34m[\u001b[0m\u001b[0mindexer\u001b[0m\u001b[0;34m]\u001b[0m\u001b[0;34m\u001b[0m\u001b[0;34m\u001b[0m\u001b[0m\n",
      "\u001b[0;32m/opt/conda/lib/python3.8/site-packages/pandas/core/indexes/base.py\u001b[0m in \u001b[0;36mget_loc\u001b[0;34m(self, key, method, tolerance)\u001b[0m\n\u001b[1;32m   3361\u001b[0m                 \u001b[0;32mreturn\u001b[0m \u001b[0mself\u001b[0m\u001b[0;34m.\u001b[0m\u001b[0m_engine\u001b[0m\u001b[0;34m.\u001b[0m\u001b[0mget_loc\u001b[0m\u001b[0;34m(\u001b[0m\u001b[0mcasted_key\u001b[0m\u001b[0;34m)\u001b[0m\u001b[0;34m\u001b[0m\u001b[0;34m\u001b[0m\u001b[0m\n\u001b[1;32m   3362\u001b[0m             \u001b[0;32mexcept\u001b[0m \u001b[0mKeyError\u001b[0m \u001b[0;32mas\u001b[0m \u001b[0merr\u001b[0m\u001b[0;34m:\u001b[0m\u001b[0;34m\u001b[0m\u001b[0;34m\u001b[0m\u001b[0m\n\u001b[0;32m-> 3363\u001b[0;31m                 \u001b[0;32mraise\u001b[0m \u001b[0mKeyError\u001b[0m\u001b[0;34m(\u001b[0m\u001b[0mkey\u001b[0m\u001b[0;34m)\u001b[0m \u001b[0;32mfrom\u001b[0m \u001b[0merr\u001b[0m\u001b[0;34m\u001b[0m\u001b[0;34m\u001b[0m\u001b[0m\n\u001b[0m\u001b[1;32m   3364\u001b[0m \u001b[0;34m\u001b[0m\u001b[0m\n\u001b[1;32m   3365\u001b[0m         \u001b[0;32mif\u001b[0m \u001b[0mis_scalar\u001b[0m\u001b[0;34m(\u001b[0m\u001b[0mkey\u001b[0m\u001b[0;34m)\u001b[0m \u001b[0;32mand\u001b[0m \u001b[0misna\u001b[0m\u001b[0;34m(\u001b[0m\u001b[0mkey\u001b[0m\u001b[0;34m)\u001b[0m \u001b[0;32mand\u001b[0m \u001b[0;32mnot\u001b[0m \u001b[0mself\u001b[0m\u001b[0;34m.\u001b[0m\u001b[0mhasnans\u001b[0m\u001b[0;34m:\u001b[0m\u001b[0;34m\u001b[0m\u001b[0;34m\u001b[0m\u001b[0m\n",
      "\u001b[0;31mKeyError\u001b[0m: '2022_bi'"
     ]
    }
   ],
   "source": [
    "ens_pred_2 = (final_df['2022_sr'] + final_df['2022_qr'] + final_df['2022_by'] + final_df['2022_elas'] + final_df['2022_svr']) / 5.\n",
    "ens_pred_2[final_df['2022_bi']] = 100\n",
    "score = mean_squared_error(answer, ens_pred_2)**0.5\n",
    "print(f'2022 ensemble score : {score:.4f}') "
   ]
  },
  {
   "cell_type": "code",
   "execution_count": 40,
   "id": "5c127076-d71a-429b-85ff-6c7c4f8473e8",
   "metadata": {},
   "outputs": [
    {
     "name": "stdout",
     "output_type": "stream",
     "text": [
      "2025 ensemble score : 18.5126\n"
     ]
    }
   ],
   "source": [
    "ens_pred_3 = (final_df['2025_sr'] + final_df['2025_qr'] + final_df['2025_by']+ final_df['2025_elas'] + final_df['2025_svr']) / 5.\n",
    "ens_pred_3[final_df['2025_bi']] = 100\n",
    "score = mean_squared_error(answer, ens_pred_3)**0.5\n",
    "print(f'2025 ensemble score : {score:.4f}') "
   ]
  },
  {
   "cell_type": "code",
   "execution_count": 41,
   "id": "bf26e7ae-16da-4c9a-8842-49277e7e319b",
   "metadata": {},
   "outputs": [
    {
     "name": "stdout",
     "output_type": "stream",
     "text": [
      "2026 ensemble score : 18.1284\n"
     ]
    }
   ],
   "source": [
    "ens_pred_4 = (final_df['2026_sr'] + final_df['2026_qr'] + final_df['2026_by'] + final_df['2026_elas'] + final_df['2026_svr']) / 5.\n",
    "ens_pred_4[final_df['2026_bi']] = 100\n",
    "score = mean_squared_error(answer, ens_pred_4)**0.5\n",
    "print(f'2026 ensemble score : {score:.4f}') "
   ]
  },
  {
   "cell_type": "code",
   "execution_count": 24,
   "id": "3e667869-fbb0-48a6-907a-4c3de805ba23",
   "metadata": {},
   "outputs": [
    {
     "name": "stdout",
     "output_type": "stream",
     "text": [
      "total score : 17.8347\n"
     ]
    }
   ],
   "source": [
    "ens_pred = (ens_pred_1 + ens_pred_2 + ens_pred_3 + ens_pred_4) / 4.\n",
    "score = mean_squared_error(answer, ens_pred)**0.5\n",
    "print(f'total score : {score:.4f}') "
   ]
  },
  {
   "cell_type": "markdown",
   "id": "4cdddb0c-3720-42c7-9d17-e393a2d78d85",
   "metadata": {},
   "source": [
    "# Strict binary head"
   ]
  },
  {
   "cell_type": "code",
   "execution_count": 42,
   "id": "d70f822e-5f76-4297-8ec9-e139a80674a4",
   "metadata": {},
   "outputs": [
    {
     "name": "stdout",
     "output_type": "stream",
     "text": [
      "2021 ensemble score : 17.2397\n",
      "2022 ensemble score : 17.3542\n",
      "2025 ensemble score : 17.2904\n",
      "2026 ensemble score : 17.3501\n"
     ]
    }
   ],
   "source": [
    "ens_pred_1 = (final_df['2021_sr'] + final_df['2021_qr'] + final_df['2021_by']) / 3.\n",
    "score = mean_squared_error(answer, ens_pred_1)**0.5\n",
    "print(f'2021 ensemble score : {score:.4f}') \n",
    "ens_pred_2 = (final_df['2022_sr'] + final_df['2022_qr'] + final_df['2022_by']) / 3.\n",
    "score = mean_squared_error(answer, ens_pred_2)**0.5\n",
    "print(f'2022 ensemble score : {score:.4f}') \n",
    "ens_pred_3 = (final_df['2025_sr'] + final_df['2025_qr'] + final_df['2025_by']) / 3.\n",
    "score = mean_squared_error(answer, ens_pred_3)**0.5\n",
    "print(f'2025 ensemble score : {score:.4f}') \n",
    "ens_pred_4 = (final_df['2026_sr'] + final_df['2026_qr'] + final_df['2026_by']) / 3.\n",
    "score = mean_squared_error(answer, ens_pred_4)**0.5\n",
    "print(f'2026 ensemble score : {score:.4f}') "
   ]
  },
  {
   "cell_type": "code",
   "execution_count": 60,
   "id": "d191f051-8a81-4192-9660-5a7b5d4d24d6",
   "metadata": {},
   "outputs": [
    {
     "name": "stdout",
     "output_type": "stream",
     "text": [
      "total score : 17.0849\n",
      "total adjuisted score : 17.0782\n"
     ]
    }
   ],
   "source": [
    "ens_pred = (ens_pred_1 + ens_pred_2 + ens_pred_3 + ens_pred_4) / 4.\n",
    "score = mean_squared_error(answer, ens_pred)**0.5\n",
    "print(f'total score : {score:.4f}') \n",
    "hud = final_df['2025_bi'] & final_df['2021_bi'] & final_df['2026_bi'] & (ens_pred > 82)\n",
    "ens_pred[hud] = 100\n",
    "score = mean_squared_error(answer, ens_pred)**0.5\n",
    "print(f'total adjuisted score : {score:.4f}') "
   ]
  },
  {
   "cell_type": "code",
   "execution_count": 62,
   "id": "577c8cd9-8291-4923-9254-18672915d65b",
   "metadata": {},
   "outputs": [
    {
     "data": {
      "text/plain": [
       "[<matplotlib.lines.Line2D at 0x7f4908faf9a0>]"
      ]
     },
     "execution_count": 62,
     "metadata": {},
     "output_type": "execute_result"
    },
    {
     "data": {
      "image/png": "[encoded data removed]",
      "text/plain": [
       "<Figure size 432x288 with 1 Axes>"
      ]
     },
     "metadata": {
      "needs_background": "light"
     },
     "output_type": "display_data"
    }
   ],
   "source": [
    "import matplotlib.pyplot as plt\n",
    "\n",
    "scores = []\n",
    "for i in range(101):\n",
    "    ens_pred = (ens_pred_1 + ens_pred_2 + ens_pred_3 + ens_pred_4) / 4.\n",
    "    hud = final_df['2025_bi'] & final_df['2021_bi'] & final_df['2026_bi'] & (ens_pred > i)\n",
    "    ens_pred[hud] = 100\n",
    "    score = mean_squared_error(answer, ens_pred)**0.5\n",
    "    #print(f'2026 ensemble score : {score:.4f}') \n",
    "    scores.append(score)\n",
    "plt.plot(scores)"
   ]
  },
  {
   "cell_type": "code",
   "execution_count": 28,
   "id": "329e3508-9d77-43bd-bd19-4b78ab1d00b5",
   "metadata": {},
   "outputs": [],
   "source": [
    "temp_df = pd.DataFrame({'answer':final_df[hud].answer, 'pred':ens_pred[hud]})"
   ]
  },
  {
   "cell_type": "code",
   "execution_count": 29,
   "id": "1d29884d-4884-4a97-a44e-e799c2f262e8",
   "metadata": {},
   "outputs": [
    {
     "data": {
      "text/html": [
       "<div>\n",
       "<style scoped>\n",
       "    .dataframe tbody tr th:only-of-type {\n",
       "        vertical-align: middle;\n",
       "    }\n",
       "\n",
       "    .dataframe tbody tr th {\n",
       "        vertical-align: top;\n",
       "    }\n",
       "\n",
       "    .dataframe thead th {\n",
       "        text-align: right;\n",
       "    }\n",
       "</style>\n",
       "<table border=\"1\" class=\"dataframe\">\n",
       "  <thead>\n",
       "    <tr style=\"text-align: right;\">\n",
       "      <th></th>\n",
       "      <th>answer</th>\n",
       "      <th>pred</th>\n",
       "    </tr>\n",
       "  </thead>\n",
       "  <tbody>\n",
       "    <tr>\n",
       "      <th>1424</th>\n",
       "      <td>66</td>\n",
       "      <td>100.0</td>\n",
       "    </tr>\n",
       "    <tr>\n",
       "      <th>1586</th>\n",
       "      <td>100</td>\n",
       "      <td>100.0</td>\n",
       "    </tr>\n",
       "    <tr>\n",
       "      <th>2452</th>\n",
       "      <td>100</td>\n",
       "      <td>100.0</td>\n",
       "    </tr>\n",
       "    <tr>\n",
       "      <th>3149</th>\n",
       "      <td>100</td>\n",
       "      <td>100.0</td>\n",
       "    </tr>\n",
       "    <tr>\n",
       "      <th>3754</th>\n",
       "      <td>97</td>\n",
       "      <td>100.0</td>\n",
       "    </tr>\n",
       "    <tr>\n",
       "      <th>3974</th>\n",
       "      <td>100</td>\n",
       "      <td>100.0</td>\n",
       "    </tr>\n",
       "    <tr>\n",
       "      <th>4814</th>\n",
       "      <td>60</td>\n",
       "      <td>100.0</td>\n",
       "    </tr>\n",
       "    <tr>\n",
       "      <th>5221</th>\n",
       "      <td>80</td>\n",
       "      <td>100.0</td>\n",
       "    </tr>\n",
       "    <tr>\n",
       "      <th>5265</th>\n",
       "      <td>100</td>\n",
       "      <td>100.0</td>\n",
       "    </tr>\n",
       "    <tr>\n",
       "      <th>5329</th>\n",
       "      <td>100</td>\n",
       "      <td>100.0</td>\n",
       "    </tr>\n",
       "    <tr>\n",
       "      <th>6548</th>\n",
       "      <td>100</td>\n",
       "      <td>100.0</td>\n",
       "    </tr>\n",
       "    <tr>\n",
       "      <th>6984</th>\n",
       "      <td>100</td>\n",
       "      <td>100.0</td>\n",
       "    </tr>\n",
       "    <tr>\n",
       "      <th>8030</th>\n",
       "      <td>5</td>\n",
       "      <td>100.0</td>\n",
       "    </tr>\n",
       "    <tr>\n",
       "      <th>9631</th>\n",
       "      <td>100</td>\n",
       "      <td>100.0</td>\n",
       "    </tr>\n",
       "  </tbody>\n",
       "</table>\n",
       "</div>"
      ],
      "text/plain": [
       "      answer   pred\n",
       "1424      66  100.0\n",
       "1586     100  100.0\n",
       "2452     100  100.0\n",
       "3149     100  100.0\n",
       "3754      97  100.0\n",
       "3974     100  100.0\n",
       "4814      60  100.0\n",
       "5221      80  100.0\n",
       "5265     100  100.0\n",
       "5329     100  100.0\n",
       "6548     100  100.0\n",
       "6984     100  100.0\n",
       "8030       5  100.0\n",
       "9631     100  100.0"
      ]
     },
     "execution_count": 29,
     "metadata": {},
     "output_type": "execute_result"
    }
   ],
   "source": [
    "temp_df"
   ]
  },
  {
   "cell_type": "markdown",
   "id": "5e43a1c3-113c-4cb6-9af4-51abc8d97071",
   "metadata": {},
   "source": [
    "# Find optimal combination"
   ]
  },
  {
   "cell_type": "code",
   "execution_count": 115,
   "id": "ecbad07e-5bf4-46a9-8c2e-b3abcd1e7506",
   "metadata": {},
   "outputs": [],
   "source": [
    "pred_list = final_df.columns[2:].tolist()"
   ]
  },
  {
   "cell_type": "code",
   "execution_count": 31,
   "id": "18b1edcf-507d-48d1-9a0a-7ca23cca4a9e",
   "metadata": {},
   "outputs": [],
   "source": [
    "del pred_list[pred_list.index('2021_bi')]"
   ]
  },
  {
   "cell_type": "code",
   "execution_count": 116,
   "id": "6cd2d9b4-95f0-4208-ab91-660c5833a760",
   "metadata": {},
   "outputs": [
    {
     "data": {
      "text/plain": [
       "['2021_org',\n",
       " '2021_elas',\n",
       " '2021_svr',\n",
       " '2021_sr',\n",
       " '2021_qr',\n",
       " '2021_by',\n",
       " '2021_bi',\n",
       " '2022_elas',\n",
       " '2022_svr',\n",
       " '2022_sr',\n",
       " '2022_qr',\n",
       " '2022_by',\n",
       " '2023_org',\n",
       " '2023_elas',\n",
       " '2023_svr',\n",
       " '2023_sr',\n",
       " '2023_qr',\n",
       " '2023_by',\n",
       " '2025_org',\n",
       " '2025_elas',\n",
       " '2025_svr',\n",
       " '2025_sr',\n",
       " '2025_qr',\n",
       " '2025_by',\n",
       " '2025_bi',\n",
       " '2026_org',\n",
       " '2026_elas',\n",
       " '2026_svr',\n",
       " '2026_sr',\n",
       " '2026_qr',\n",
       " '2026_by',\n",
       " '2026_bi']"
      ]
     },
     "execution_count": 116,
     "metadata": {},
     "output_type": "execute_result"
    }
   ],
   "source": [
    "pred_list"
   ]
  },
  {
   "cell_type": "code",
   "execution_count": 114,
   "id": "d2eff598-852b-4726-9fdd-df7c7a1f0577",
   "metadata": {},
   "outputs": [
    {
     "name": "stdout",
     "output_type": "stream",
     "text": [
      "min combination : ('2021_svr', '2021_sr', '2022_sr', '2025_by', '2026_sr', '2026_by'), score : 17.049056027723747, current_score : 17.1682424837237344\r"
     ]
    },
    {
     "ename": "KeyboardInterrupt",
     "evalue": "",
     "output_type": "error",
     "traceback": [
      "\u001b[0;31m---------------------------------------------------------------------------\u001b[0m",
      "\u001b[0;31mKeyboardInterrupt\u001b[0m                         Traceback (most recent call last)",
      "\u001b[0;32m<ipython-input-114-88fad53b5b67>\u001b[0m in \u001b[0;36m<module>\u001b[0;34m\u001b[0m\n\u001b[1;32m     32\u001b[0m             \u001b[0mprint\u001b[0m\u001b[0;34m(\u001b[0m\u001b[0;34m'------------'\u001b[0m\u001b[0;34m)\u001b[0m\u001b[0;34m\u001b[0m\u001b[0;34m\u001b[0m\u001b[0m\n\u001b[1;32m     33\u001b[0m \u001b[0;34m\u001b[0m\u001b[0m\n\u001b[0;32m---> 34\u001b[0;31m         \u001b[0mprint\u001b[0m\u001b[0;34m(\u001b[0m\u001b[0;34mf'min combination : {min_comb}, score : {cv_min_score}, current_score : {ens_score}'\u001b[0m\u001b[0;34m,\u001b[0m \u001b[0mend\u001b[0m\u001b[0;34m=\u001b[0m\u001b[0;34m'\\r'\u001b[0m\u001b[0;34m)\u001b[0m\u001b[0;34m\u001b[0m\u001b[0;34m\u001b[0m\u001b[0m\n\u001b[0m",
      "\u001b[0;32m/opt/conda/lib/python3.8/site-packages/ipykernel/iostream.py\u001b[0m in \u001b[0;36mwrite\u001b[0;34m(self, string)\u001b[0m\n\u001b[1;32m    400\u001b[0m             \u001b[0mis_child\u001b[0m \u001b[0;34m=\u001b[0m \u001b[0;34m(\u001b[0m\u001b[0;32mnot\u001b[0m \u001b[0mself\u001b[0m\u001b[0;34m.\u001b[0m\u001b[0m_is_master_process\u001b[0m\u001b[0;34m(\u001b[0m\u001b[0;34m)\u001b[0m\u001b[0;34m)\u001b[0m\u001b[0;34m\u001b[0m\u001b[0;34m\u001b[0m\u001b[0m\n\u001b[1;32m    401\u001b[0m             \u001b[0;31m# only touch the buffer in the IO thread to avoid races\u001b[0m\u001b[0;34m\u001b[0m\u001b[0;34m\u001b[0m\u001b[0;34m\u001b[0m\u001b[0m\n\u001b[0;32m--> 402\u001b[0;31m             \u001b[0mself\u001b[0m\u001b[0;34m.\u001b[0m\u001b[0mpub_thread\u001b[0m\u001b[0;34m.\u001b[0m\u001b[0mschedule\u001b[0m\u001b[0;34m(\u001b[0m\u001b[0;32mlambda\u001b[0m \u001b[0;34m:\u001b[0m \u001b[0mself\u001b[0m\u001b[0;34m.\u001b[0m\u001b[0m_buffer\u001b[0m\u001b[0;34m.\u001b[0m\u001b[0mwrite\u001b[0m\u001b[0;34m(\u001b[0m\u001b[0mstring\u001b[0m\u001b[0;34m)\u001b[0m\u001b[0;34m)\u001b[0m\u001b[0;34m\u001b[0m\u001b[0;34m\u001b[0m\u001b[0m\n\u001b[0m\u001b[1;32m    403\u001b[0m             \u001b[0;32mif\u001b[0m \u001b[0mis_child\u001b[0m\u001b[0;34m:\u001b[0m\u001b[0;34m\u001b[0m\u001b[0;34m\u001b[0m\u001b[0m\n\u001b[1;32m    404\u001b[0m                 \u001b[0;31m# mp.Pool cannot be trusted to flush promptly (or ever),\u001b[0m\u001b[0;34m\u001b[0m\u001b[0;34m\u001b[0m\u001b[0;34m\u001b[0m\u001b[0m\n",
      "\u001b[0;32m/opt/conda/lib/python3.8/site-packages/ipykernel/iostream.py\u001b[0m in \u001b[0;36mschedule\u001b[0;34m(self, f)\u001b[0m\n\u001b[1;32m    201\u001b[0m             \u001b[0mself\u001b[0m\u001b[0;34m.\u001b[0m\u001b[0m_events\u001b[0m\u001b[0;34m.\u001b[0m\u001b[0mappend\u001b[0m\u001b[0;34m(\u001b[0m\u001b[0mf\u001b[0m\u001b[0;34m)\u001b[0m\u001b[0;34m\u001b[0m\u001b[0;34m\u001b[0m\u001b[0m\n\u001b[1;32m    202\u001b[0m             \u001b[0;31m# wake event thread (message content is ignored)\u001b[0m\u001b[0;34m\u001b[0m\u001b[0;34m\u001b[0m\u001b[0;34m\u001b[0m\u001b[0m\n\u001b[0;32m--> 203\u001b[0;31m             \u001b[0mself\u001b[0m\u001b[0;34m.\u001b[0m\u001b[0m_event_pipe\u001b[0m\u001b[0;34m.\u001b[0m\u001b[0msend\u001b[0m\u001b[0;34m(\u001b[0m\u001b[0;34mb''\u001b[0m\u001b[0;34m)\u001b[0m\u001b[0;34m\u001b[0m\u001b[0;34m\u001b[0m\u001b[0m\n\u001b[0m\u001b[1;32m    204\u001b[0m         \u001b[0;32melse\u001b[0m\u001b[0;34m:\u001b[0m\u001b[0;34m\u001b[0m\u001b[0;34m\u001b[0m\u001b[0m\n\u001b[1;32m    205\u001b[0m             \u001b[0mf\u001b[0m\u001b[0;34m(\u001b[0m\u001b[0;34m)\u001b[0m\u001b[0;34m\u001b[0m\u001b[0;34m\u001b[0m\u001b[0m\n",
      "\u001b[0;32m/opt/conda/lib/python3.8/site-packages/zmq/sugar/socket.py\u001b[0m in \u001b[0;36msend\u001b[0;34m(self, data, flags, copy, track, routing_id, group)\u001b[0m\n\u001b[1;32m    545\u001b[0m                 )\n\u001b[1;32m    546\u001b[0m             \u001b[0mdata\u001b[0m\u001b[0;34m.\u001b[0m\u001b[0mgroup\u001b[0m \u001b[0;34m=\u001b[0m \u001b[0mgroup\u001b[0m\u001b[0;34m\u001b[0m\u001b[0;34m\u001b[0m\u001b[0m\n\u001b[0;32m--> 547\u001b[0;31m         \u001b[0;32mreturn\u001b[0m \u001b[0msuper\u001b[0m\u001b[0;34m(\u001b[0m\u001b[0mSocket\u001b[0m\u001b[0;34m,\u001b[0m \u001b[0mself\u001b[0m\u001b[0;34m)\u001b[0m\u001b[0;34m.\u001b[0m\u001b[0msend\u001b[0m\u001b[0;34m(\u001b[0m\u001b[0mdata\u001b[0m\u001b[0;34m,\u001b[0m \u001b[0mflags\u001b[0m\u001b[0;34m=\u001b[0m\u001b[0mflags\u001b[0m\u001b[0;34m,\u001b[0m \u001b[0mcopy\u001b[0m\u001b[0;34m=\u001b[0m\u001b[0mcopy\u001b[0m\u001b[0;34m,\u001b[0m \u001b[0mtrack\u001b[0m\u001b[0;34m=\u001b[0m\u001b[0mtrack\u001b[0m\u001b[0;34m)\u001b[0m\u001b[0;34m\u001b[0m\u001b[0;34m\u001b[0m\u001b[0m\n\u001b[0m\u001b[1;32m    548\u001b[0m \u001b[0;34m\u001b[0m\u001b[0m\n\u001b[1;32m    549\u001b[0m     \u001b[0;32mdef\u001b[0m \u001b[0msend_multipart\u001b[0m\u001b[0;34m(\u001b[0m\u001b[0mself\u001b[0m\u001b[0;34m,\u001b[0m \u001b[0mmsg_parts\u001b[0m\u001b[0;34m,\u001b[0m \u001b[0mflags\u001b[0m\u001b[0;34m=\u001b[0m\u001b[0;36m0\u001b[0m\u001b[0;34m,\u001b[0m \u001b[0mcopy\u001b[0m\u001b[0;34m=\u001b[0m\u001b[0;32mTrue\u001b[0m\u001b[0;34m,\u001b[0m \u001b[0mtrack\u001b[0m\u001b[0;34m=\u001b[0m\u001b[0;32mFalse\u001b[0m\u001b[0;34m,\u001b[0m \u001b[0;34m**\u001b[0m\u001b[0mkwargs\u001b[0m\u001b[0;34m)\u001b[0m\u001b[0;34m:\u001b[0m\u001b[0;34m\u001b[0m\u001b[0;34m\u001b[0m\u001b[0m\n",
      "\u001b[0;32mzmq/backend/cython/socket.pyx\u001b[0m in \u001b[0;36mzmq.backend.cython.socket.Socket.send\u001b[0;34m()\u001b[0m\n",
      "\u001b[0;32mzmq/backend/cython/socket.pyx\u001b[0m in \u001b[0;36mzmq.backend.cython.socket.Socket.send\u001b[0;34m()\u001b[0m\n",
      "\u001b[0;32mzmq/backend/cython/socket.pyx\u001b[0m in \u001b[0;36mzmq.backend.cython.socket._send_copy\u001b[0;34m()\u001b[0m\n",
      "\u001b[0;32m/opt/conda/lib/python3.8/site-packages/zmq/backend/cython/checkrc.pxd\u001b[0m in \u001b[0;36mzmq.backend.cython.checkrc._check_rc\u001b[0;34m()\u001b[0m\n",
      "\u001b[0;31mKeyboardInterrupt\u001b[0m: "
     ]
    }
   ],
   "source": [
    "from itertools import combinations\n",
    "\n",
    "debug = False\n",
    "pred_list = final_df.columns[2:].tolist()\n",
    "del pred_list[pred_list.index('2021_bi')]\n",
    "# del pred_list[pred_list.index('2022_bi')]\n",
    "del pred_list[pred_list.index('2025_bi')]\n",
    "del pred_list[pred_list.index('2026_bi')]\n",
    "pred_list = tuple(pred_list)\n",
    "\n",
    "cv_min_score = 10e+2\n",
    "\n",
    "for i in range(1, len(pred_list)+1):\n",
    "    \n",
    "    comb = list(combinations(pred_list, i))\n",
    "    \n",
    "    for c in comb:\n",
    "        temp_df = final_df[list(c)].values\n",
    "        ensemble_predicts = np.mean(temp_df, axis=1)\n",
    "#         ensemble_predicts = np.zeros(len(final_df))\n",
    "#         for item in c:\n",
    "#             ensemble_predicts += final_df[item].to_numpy()\n",
    "#         ensemble_predicts = ensemble_predicts/len(c)\n",
    "        ens_score = mean_squared_error(final_df['answer'],ensemble_predicts)**0.5\n",
    "            \n",
    "        if ens_score < cv_min_score:\n",
    "            min_comb = c\n",
    "            cv_min_score = ens_score\n",
    "        if debug:\n",
    "            print(c)\n",
    "            print(f'cv score : {ens_score}')\n",
    "            print('------------')\n",
    "            \n",
    "        print(f'min combination : {min_comb}, score : {cv_min_score}, current_score : {ens_score}', end='\\r')"
   ]
  },
  {
   "cell_type": "code",
   "execution_count": null,
   "id": "fafcf08b-b24e-4ade-9cd8-76963f29c69f",
   "metadata": {},
   "outputs": [],
   "source": []
  }
 ],
 "metadata": {
  "kernelspec": {
   "display_name": "Python 3",
   "language": "python",
   "name": "python3"
  },
  "language_info": {
   "codemirror_mode": {
    "name": "ipython",
    "version": 3
   },
   "file_extension": ".py",
   "mimetype": "text/x-python",
   "name": "python",
   "nbconvert_exporter": "python",
   "pygments_lexer": "ipython3",
   "version": "3.8.10"
  }
 },
 "nbformat": 4,
 "nbformat_minor": 5
}
